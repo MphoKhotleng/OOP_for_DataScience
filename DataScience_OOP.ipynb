{
 "cells": [
  {
   "cell_type": "code",
   "execution_count": 2,
   "metadata": {},
   "outputs": [],
   "source": [
    "import numpy as np\n",
    "from sklearn.metrics import mean_squared_error\n",
    "from sklearn import metrics\n",
    "from sklearn.metrics import mean_absolute_error"
   ]
  },
  {
   "cell_type": "markdown",
   "metadata": {},
   "source": [
    "- __Create a class called ErrorCalculator__\n",
    "- It must have methods to compute residuals, standardised residuals, Mean Squared Error (MSE) and Root Mean Squared Error (RMSE).\n",
    "- Name these methods get_residuals, get_standardised_residuals, get_mse and get_rmse respectively.\n",
    "- Have a method, error_summary that prints the average, minimum and maximum of the standardised residuals, as well as the MSE and RMSE\n",
    "\n",
    "__The class should have the following parameters: - y: A 1D array of the target variable, size n_observations - y_pred: A 1D array of the predicted values of the target variable, size n_observations__\n",
    "\n"
   ]
  },
  {
   "cell_type": "markdown",
   "metadata": {},
   "source": [
    "# residual = actual - expected"
   ]
  },
  {
   "cell_type": "code",
   "execution_count": null,
   "metadata": {},
   "outputs": [],
   "source": [
    "# model_mse = np.sqrt(mean_squared_error(Y_test, y_predict))\n",
    "# model_mse"
   ]
  },
  {
   "cell_type": "code",
   "execution_count": null,
   "metadata": {},
   "outputs": [],
   "source": [
    "# trainRMSE = np.sqrt(metrics.mean_squared_error(Y_train, model.predict(X_train)))\n",
    "# trainRMSE"
   ]
  },
  {
   "cell_type": "code",
   "execution_count": null,
   "metadata": {},
   "outputs": [],
   "source": [
    "# from sklearn.metrics import mean_absolute_error\n",
    "# y_true = df_compare.salary\n",
    "# y_pred = df_compare.predicted_salary\n",
    "# mean_absolute_error(y_true, y_pred)"
   ]
  },
  {
   "cell_type": "code",
   "execution_count": null,
   "metadata": {},
   "outputs": [],
   "source": [
    "# def mean_absolute_percentage_error(y_true, y_pred): \n",
    "#     y_true, y_pred = np.array(y_true), np.array(y_pred)\n",
    "#     return np.mean(np.abs((y_true - y_pred) / y_true)) * 100"
   ]
  },
  {
   "cell_type": "code",
   "execution_count": null,
   "metadata": {},
   "outputs": [],
   "source": [
    "# class ErrorCalculator:\n",
    "#     def __init__(self,y,y_predict):\n",
    "#         self.y = y\n",
    "#         self.y_predict = y_predict"
   ]
  },
  {
   "cell_type": "code",
   "execution_count": null,
   "metadata": {},
   "outputs": [],
   "source": [
    "def get_standardised_residuals(self):\n",
    "        resid = self.get_residuals()\n",
    "        residual_std = resid.std()\n",
    "        standardised_residual =  resid/residual_std\n",
    "        return standardised_residual"
   ]
  },
  {
   "cell_type": "markdown",
   "metadata": {},
   "source": [
    "### The standardized residual is the residual divided by its standard deviation"
   ]
  },
  {
   "cell_type": "code",
   "execution_count": 5,
   "metadata": {},
   "outputs": [],
   "source": [
    "class ErrorCalculator:\n",
    "    def __init__(self,y,y_predict):\n",
    "        self.y = y\n",
    "        self.y_predict = y_predict"
   ]
  },
  {
   "cell_type": "code",
   "execution_count": 10,
   "metadata": {},
   "outputs": [
    {
     "ename": "SyntaxError",
     "evalue": "can't assign to function call (<ipython-input-10-d4dd69339704>, line 3)",
     "output_type": "error",
     "traceback": [
      "\u001b[0;36m  File \u001b[0;32m\"<ipython-input-10-d4dd69339704>\"\u001b[0;36m, line \u001b[0;32m3\u001b[0m\n\u001b[0;31m    self.array(y, dtype=float) = y\u001b[0m\n\u001b[0m    ^\u001b[0m\n\u001b[0;31mSyntaxError\u001b[0m\u001b[0;31m:\u001b[0m can't assign to function call\n"
     ]
    }
   ],
   "source": [
    "class ErrorCalculator:\n",
    "    def __init__(self, y, y_pred):\n",
    "        self.array(y, dtype=float) = y\n",
    "        self.np.array(y_pred, dtype=float) = y_pred\n",
    "        \n",
    "\n",
    "    def get_residuals(self):\n",
    "        self.residual(y-y_pred) = residuals\n",
    "        return residuals\n",
    "\n",
    "    def get_standardised_residuals(self):\n",
    "        self.residuals/np.std(arr, axis = None) = standardised_residual\n",
    "        return standardised_residual\n",
    "        \n",
    "\n",
    "    def get_mse(self):\n",
    "        self.mse = np.sqrt(mean_squared_error(Y_test, y_predict))\n",
    "        return self.mse\n",
    "    \n",
    "    \n",
    "    def get_rmse():\n",
    "        self.RMSE = np.sqrt(metrics.mean_squared_error(Y_train, model.predict(X_train)))\n",
    "        return self.RMSE\n"
   ]
  },
  {
   "cell_type": "markdown",
   "metadata": {},
   "source": [
    "- __Create a generic class called Plotter.__\n",
    "- This class should have a method, run_calculations, to calculate the residuals if they have not yet been calculated, and a method plot, which simply plots a histogram of the residuals.\n",
    "- As before, the class should have the following parameters: - y: A 1D array of the target variable, size n_observations - y_pred: A 1D array of the predicted values of the target variable, size n_observations"
   ]
  },
  {
   "cell_type": "code",
   "execution_count": null,
   "metadata": {},
   "outputs": [],
   "source": [
    "class Plotter:\n",
    "    def__init__(self, y, y_pred):\n",
    "        self.np.array(y, dtype=float) = y\n",
    "        self.np.array(y_pred, dtype=float) = y_pred\n",
    "        \n",
    "    def run_calculations():\n",
    "        pass\n",
    "    \n",
    "    def plot():\n",
    "        pass\n",
    "        \n",
    "    "
   ]
  },
  {
   "cell_type": "code",
   "execution_count": null,
   "metadata": {},
   "outputs": [],
   "source": []
  }
 ],
 "metadata": {
  "kernelspec": {
   "display_name": "Python 3",
   "language": "python",
   "name": "python3"
  },
  "language_info": {
   "codemirror_mode": {
    "name": "ipython",
    "version": 3
   },
   "file_extension": ".py",
   "mimetype": "text/x-python",
   "name": "python",
   "nbconvert_exporter": "python",
   "pygments_lexer": "ipython3",
   "version": "3.7.4"
  }
 },
 "nbformat": 4,
 "nbformat_minor": 4
}
