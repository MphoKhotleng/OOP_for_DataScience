{
 "cells": [
  {
   "cell_type": "code",
   "execution_count": 2,
   "metadata": {},
   "outputs": [],
   "source": [
    "import numpy as np\n",
    "from sklearn.metrics import mean_squared_error\n",
    "from sklearn import metrics\n",
    "from sklearn.metrics import mean_absolute_error"
   ]
  },
  {
   "cell_type": "markdown",
   "metadata": {},
   "source": [
    "- __Create a class called ErrorCalculator__\n",
    "- It must have methods to compute residuals, standardised residuals, Mean Squared Error (MSE) and Root Mean Squared Error (RMSE).\n",
    "- Name these methods get_residuals, get_standardised_residuals, get_mse and get_rmse respectively.\n",
    "- Have a method, error_summary that prints the average, minimum and maximum of the standardised residuals, as well as the MSE and RMSE\n",
    "\n",
    "__The class should have the following parameters: - y: A 1D array of the target variable, size n_observations - y_pred: A 1D array of the predicted values of the target variable, size n_observations__\n",
    "\n"
   ]
  },
  {
   "cell_type": "code",
   "execution_count": null,
   "metadata": {},
   "outputs": [],
   "source": [
    "# model_mse = np.sqrt(mean_squared_error(Y_test, y_predict))\n",
    "# model_mse"
   ]
  },
  {
   "cell_type": "code",
   "execution_count": null,
   "metadata": {},
   "outputs": [],
   "source": [
    "# trainRMSE = np.sqrt(metrics.mean_squared_error(Y_train, model.predict(X_train)))\n",
    "# trainRMSE"
   ]
  },
  {
   "cell_type": "code",
   "execution_count": null,
   "metadata": {},
   "outputs": [],
   "source": [
    "# from sklearn.metrics import mean_absolute_error\n",
    "# y_true = df_compare.salary\n",
    "# y_pred = df_compare.predicted_salary\n",
    "# mean_absolute_error(y_true, y_pred)"
   ]
  },
  {
   "cell_type": "code",
   "execution_count": null,
   "metadata": {},
   "outputs": [],
   "source": [
    "# def mean_absolute_percentage_error(y_true, y_pred): \n",
    "#     y_true, y_pred = np.array(y_true), np.array(y_pred)\n",
    "#     return np.mean(np.abs((y_true - y_pred) / y_true)) * 100"
   ]
  },
  {
   "cell_type": "code",
   "execution_count": null,
   "metadata": {},
   "outputs": [],
   "source": [
    "# class ErrorCalculator:\n",
    "#     def __init__(self,y,y_predict):\n",
    "#         self.y = y\n",
    "#         self.y_predict = y_predict"
   ]
  },
  {
   "cell_type": "code",
   "execution_count": null,
   "metadata": {},
   "outputs": [],
   "source": [
    "class ErrorCalculator:\n",
    "    def__init__(self, y, y_pred):\n",
    "        self.np.array(y, dtype=float) = y\n",
    "        self.np.array(y_pred, dtype=float) = y_pred\n",
    "        \n",
    "\n",
    "    def get_residuals(self):\n",
    "        pass\n",
    "\n",
    "    def get_standardised_residuals()\n",
    "        pass\n",
    "\n",
    "    def get_mse():\n",
    "        self.mse = np.sqrt(mean_squared_error(Y_test, y_predict))\n",
    "        return self.mse\n",
    "    \n",
    "    \n",
    "    \n",
    "    \n",
    "    def get_rmse():\n",
    "        self.RMSE = np.sqrt(metrics.mean_squared_error(Y_train, model.predict(X_train)))\n",
    "        return self.RMSE\n"
   ]
  }
 ],
 "metadata": {
  "kernelspec": {
   "display_name": "Python 3",
   "language": "python",
   "name": "python3"
  },
  "language_info": {
   "codemirror_mode": {
    "name": "ipython",
    "version": 3
   },
   "file_extension": ".py",
   "mimetype": "text/x-python",
   "name": "python",
   "nbconvert_exporter": "python",
   "pygments_lexer": "ipython3",
   "version": "3.7.4"
  }
 },
 "nbformat": 4,
 "nbformat_minor": 4
}
