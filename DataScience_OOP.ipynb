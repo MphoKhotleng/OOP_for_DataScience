{
 "cells": [
  {
   "cell_type": "code",
   "execution_count": 2,
   "metadata": {},
   "outputs": [],
   "source": [
    "import numpy as np\n",
    "from sklearn.metrics import mean_squared_error"
   ]
  },
  {
   "cell_type": "markdown",
   "metadata": {},
   "source": [
    "- __Create a class called ErrorCalculator__\n",
    "- It must have methods to compute residuals, standardised residuals, Mean Squared Error (MSE) and Root Mean Squared Error (RMSE).\n",
    "- Name these methods get_residuals, get_standardised_residuals, get_mse and get_rmse respectively.\n",
    "- Have a method, error_summary that prints the average, minimum and maximum of the standardised residuals, as well as the MSE and RMSE"
   ]
  },
  {
   "cell_type": "code",
   "execution_count": null,
   "metadata": {},
   "outputs": [],
   "source": [
    "# model_mse = np.sqrt(mean_squared_error(Y_test, y_predict))\n",
    "# model_mse"
   ]
  },
  {
   "cell_type": "code",
   "execution_count": null,
   "metadata": {},
   "outputs": [],
   "source": [
    "class ErrorCalculator:\n",
    "    pass\n",
    "\n",
    "    def get_residuals(self):\n",
    "        pass\n",
    "\n",
    "    def get_standardised_residuals()\n",
    "        pass\n",
    "\n",
    "    def get_mse():\n",
    "        self.mse = np.sqrt(mean_squared_error(Y_test, y_predict))\n",
    "        return self.mse\n",
    "    \n",
    "    \n",
    "    \n",
    "    \n",
    "    def get_rmse():\n",
    "        pass\n"
   ]
  }
 ],
 "metadata": {
  "kernelspec": {
   "display_name": "Python 3",
   "language": "python",
   "name": "python3"
  },
  "language_info": {
   "codemirror_mode": {
    "name": "ipython",
    "version": 3
   },
   "file_extension": ".py",
   "mimetype": "text/x-python",
   "name": "python",
   "nbconvert_exporter": "python",
   "pygments_lexer": "ipython3",
   "version": "3.7.4"
  }
 },
 "nbformat": 4,
 "nbformat_minor": 4
}
