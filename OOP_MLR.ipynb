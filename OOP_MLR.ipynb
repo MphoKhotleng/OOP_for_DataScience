{
 "cells": [
  {
   "cell_type": "markdown",
   "metadata": {},
   "source": [
    " ###                 MULTIVARIATE LINEAR REGRESSION [OOP Edition]"
   ]
  },
  {
   "cell_type": "markdown",
   "metadata": {},
   "source": [
    "This notebook is divided into two parts. \"Model 1\" __(MLR assignment)__ & \"Model 2\" __(OOP version)__ of the fore-mentioned.\n",
    "Both of these models seek to predict employee salaries from different employee characteristics (or features)."
   ]
  },
  {
   "cell_type": "markdown",
   "metadata": {},
   "source": [
    "#### **This assignment addresses the following:**\n",
    "\n",
    "[Exploratory Data Analysis -EDA](#EDA) \n",
    "<a href='EDA'> </a>\n",
    "\n",
    "[Feature Engineering](#feng)\n",
    "<a href='feng'> </a>\n",
    "\n",
    "[Correlation and Statistical Significance Analysis](#corr)\n",
    "<a href='corr'> </a>\n",
    "\n",
    "[~~Feature Selection~~](#select)\n",
    "<a href='select'> </a>\n",
    "\n",
    "[Model Training](#train)\n",
    "<a href='train'> </a>\n",
    "\n",
    "[Predictions](#predict)\n",
    "<a href='predict'> </a>\n",
    "\n",
    "[Model Evaluation](#eval)\n",
    "<a href='eval'> </a>\n",
    "\n",
    "[OOP for Data Science](#oop)\n",
    "<a href='oop'> </a>\n"
   ]
  },
  {
   "cell_type": "markdown",
   "metadata": {},
   "source": [
    "### Required Packages:"
   ]
  },
  {
   "cell_type": "code",
   "execution_count": 31,
   "metadata": {},
   "outputs": [],
   "source": [
    "import pandas as pd\n",
    "import numpy as np\n",
    "import matplotlib.pyplot as plt\n",
    "import seaborn as sns\n",
    "sns.set()\n",
    "from scipy import stats\n",
    "import statsmodels.api as sm\n",
    "from statsmodels.formula.api import ols\n",
    "import statsmodels\n",
    "from sklearn.model_selection import train_test_split\n",
    "\n",
    "\n",
    "import warnings\n",
    "warnings.filterwarnings(\"ignore\")"
   ]
  },
  {
   "cell_type": "markdown",
   "metadata": {},
   "source": [
    "### Navigation:"
   ]
  },
  {
   "cell_type": "markdown",
   "metadata": {},
   "source": [
    "## [MODEL 1](#MLR)   \n",
    "\n",
    "\n",
    "\n",
    "## [MODEL 2](#OOP)"
   ]
  },
  {
   "cell_type": "markdown",
   "metadata": {},
   "source": [
    "### MLR"
   ]
  },
  {
   "cell_type": "markdown",
   "metadata": {},
   "source": [
    "<a id='EDA'></a> <div class=\"alert alert-block alert-info\">\n",
    "\n",
    "### Exploratory Data Analysis (EDA)\n",
    "- Data Ingestion\n",
    "- Data Preprocessing\n",
    " </div>"
   ]
  },
  {
   "cell_type": "code",
   "execution_count": 32,
   "metadata": {},
   "outputs": [],
   "source": [
    "sal = pd.read_csv('data/salary.csv')"
   ]
  },
  {
   "cell_type": "code",
   "execution_count": 33,
   "metadata": {},
   "outputs": [
    {
     "name": "stdout",
     "output_type": "stream",
     "text": [
      "<class 'pandas.core.frame.DataFrame'>\n",
      "RangeIndex: 514 entries, 0 to 513\n",
      "Data columns (total 11 columns):\n",
      "salary         513 non-null float64\n",
      "exprior        514 non-null int64\n",
      "yearsworked    514 non-null int64\n",
      "yearsrank      514 non-null int64\n",
      "market         514 non-null float64\n",
      "degree         514 non-null int64\n",
      "otherqual      514 non-null int64\n",
      "position       514 non-null int64\n",
      "male           514 non-null int64\n",
      "Field          514 non-null int64\n",
      "yearsabs       514 non-null int64\n",
      "dtypes: float64(2), int64(9)\n",
      "memory usage: 44.3 KB\n"
     ]
    }
   ],
   "source": [
    "#Examine DataSet\n",
    "sal.info()"
   ]
  },
  {
   "cell_type": "markdown",
   "metadata": {},
   "source": [
    "* Our target variable (salary) has one missing value."
   ]
  },
  {
   "cell_type": "code",
   "execution_count": 34,
   "metadata": {},
   "outputs": [],
   "source": [
    "#Method to fix missing value\n",
    "sal['salary'].fillna(sal['salary'].mean(),inplace = True)\n",
    "#sal = sal.drop_duplicates()"
   ]
  },
  {
   "cell_type": "markdown",
   "metadata": {},
   "source": [
    "* Missing value has been filled w/ mean. Duplicates would be dropped if dataset had any \n",
    "* Filled w/ mean instead of dropping because salary is the target variable and every observation has its relevance"
   ]
  },
  {
   "cell_type": "code",
   "execution_count": 35,
   "metadata": {},
   "outputs": [
    {
     "data": {
      "text/html": [
       "<div>\n",
       "<style scoped>\n",
       "    .dataframe tbody tr th:only-of-type {\n",
       "        vertical-align: middle;\n",
       "    }\n",
       "\n",
       "    .dataframe tbody tr th {\n",
       "        vertical-align: top;\n",
       "    }\n",
       "\n",
       "    .dataframe thead th {\n",
       "        text-align: right;\n",
       "    }\n",
       "</style>\n",
       "<table border=\"1\" class=\"dataframe\">\n",
       "  <thead>\n",
       "    <tr style=\"text-align: right;\">\n",
       "      <th></th>\n",
       "      <th>salary</th>\n",
       "      <th>exprior</th>\n",
       "      <th>yearsworked</th>\n",
       "      <th>yearsrank</th>\n",
       "      <th>market</th>\n",
       "      <th>degree</th>\n",
       "      <th>otherqual</th>\n",
       "      <th>position</th>\n",
       "      <th>male</th>\n",
       "      <th>Field</th>\n",
       "      <th>yearsabs</th>\n",
       "    </tr>\n",
       "  </thead>\n",
       "  <tbody>\n",
       "    <tr>\n",
       "      <td>count</td>\n",
       "      <td>514.000000</td>\n",
       "      <td>514.000000</td>\n",
       "      <td>514.000000</td>\n",
       "      <td>514.000000</td>\n",
       "      <td>514.000000</td>\n",
       "      <td>514.000000</td>\n",
       "      <td>514.000000</td>\n",
       "      <td>514.000000</td>\n",
       "      <td>514.000000</td>\n",
       "      <td>514.000000</td>\n",
       "      <td>514.000000</td>\n",
       "    </tr>\n",
       "    <tr>\n",
       "      <td>mean</td>\n",
       "      <td>50863.220098</td>\n",
       "      <td>2.926070</td>\n",
       "      <td>12.852140</td>\n",
       "      <td>7.052529</td>\n",
       "      <td>0.948521</td>\n",
       "      <td>0.964981</td>\n",
       "      <td>0.044747</td>\n",
       "      <td>2.132296</td>\n",
       "      <td>0.750973</td>\n",
       "      <td>2.529183</td>\n",
       "      <td>6.982490</td>\n",
       "    </tr>\n",
       "    <tr>\n",
       "      <td>std</td>\n",
       "      <td>12672.762650</td>\n",
       "      <td>4.791397</td>\n",
       "      <td>9.444695</td>\n",
       "      <td>6.414771</td>\n",
       "      <td>0.149380</td>\n",
       "      <td>0.184008</td>\n",
       "      <td>0.206950</td>\n",
       "      <td>0.820075</td>\n",
       "      <td>0.432871</td>\n",
       "      <td>1.127420</td>\n",
       "      <td>16.873156</td>\n",
       "    </tr>\n",
       "    <tr>\n",
       "      <td>min</td>\n",
       "      <td>29000.000000</td>\n",
       "      <td>0.000000</td>\n",
       "      <td>0.000000</td>\n",
       "      <td>0.000000</td>\n",
       "      <td>0.710000</td>\n",
       "      <td>0.000000</td>\n",
       "      <td>0.000000</td>\n",
       "      <td>1.000000</td>\n",
       "      <td>0.000000</td>\n",
       "      <td>1.000000</td>\n",
       "      <td>0.000000</td>\n",
       "    </tr>\n",
       "    <tr>\n",
       "      <td>25%</td>\n",
       "      <td>40000.000000</td>\n",
       "      <td>0.000000</td>\n",
       "      <td>4.000000</td>\n",
       "      <td>2.000000</td>\n",
       "      <td>0.840000</td>\n",
       "      <td>1.000000</td>\n",
       "      <td>0.000000</td>\n",
       "      <td>1.000000</td>\n",
       "      <td>1.000000</td>\n",
       "      <td>2.000000</td>\n",
       "      <td>0.000000</td>\n",
       "    </tr>\n",
       "    <tr>\n",
       "      <td>50%</td>\n",
       "      <td>50165.500000</td>\n",
       "      <td>0.500000</td>\n",
       "      <td>12.000000</td>\n",
       "      <td>5.000000</td>\n",
       "      <td>0.920000</td>\n",
       "      <td>1.000000</td>\n",
       "      <td>0.000000</td>\n",
       "      <td>2.000000</td>\n",
       "      <td>1.000000</td>\n",
       "      <td>3.000000</td>\n",
       "      <td>1.000000</td>\n",
       "    </tr>\n",
       "    <tr>\n",
       "      <td>75%</td>\n",
       "      <td>60306.250000</td>\n",
       "      <td>4.000000</td>\n",
       "      <td>22.000000</td>\n",
       "      <td>12.000000</td>\n",
       "      <td>1.020000</td>\n",
       "      <td>1.000000</td>\n",
       "      <td>0.000000</td>\n",
       "      <td>3.000000</td>\n",
       "      <td>1.000000</td>\n",
       "      <td>4.000000</td>\n",
       "      <td>2.000000</td>\n",
       "    </tr>\n",
       "    <tr>\n",
       "      <td>max</td>\n",
       "      <td>96156.000000</td>\n",
       "      <td>25.000000</td>\n",
       "      <td>41.000000</td>\n",
       "      <td>28.000000</td>\n",
       "      <td>1.330000</td>\n",
       "      <td>1.000000</td>\n",
       "      <td>1.000000</td>\n",
       "      <td>3.000000</td>\n",
       "      <td>1.000000</td>\n",
       "      <td>4.000000</td>\n",
       "      <td>118.000000</td>\n",
       "    </tr>\n",
       "  </tbody>\n",
       "</table>\n",
       "</div>"
      ],
      "text/plain": [
       "             salary     exprior  yearsworked   yearsrank      market  \\\n",
       "count    514.000000  514.000000   514.000000  514.000000  514.000000   \n",
       "mean   50863.220098    2.926070    12.852140    7.052529    0.948521   \n",
       "std    12672.762650    4.791397     9.444695    6.414771    0.149380   \n",
       "min    29000.000000    0.000000     0.000000    0.000000    0.710000   \n",
       "25%    40000.000000    0.000000     4.000000    2.000000    0.840000   \n",
       "50%    50165.500000    0.500000    12.000000    5.000000    0.920000   \n",
       "75%    60306.250000    4.000000    22.000000   12.000000    1.020000   \n",
       "max    96156.000000   25.000000    41.000000   28.000000    1.330000   \n",
       "\n",
       "           degree   otherqual    position        male       Field    yearsabs  \n",
       "count  514.000000  514.000000  514.000000  514.000000  514.000000  514.000000  \n",
       "mean     0.964981    0.044747    2.132296    0.750973    2.529183    6.982490  \n",
       "std      0.184008    0.206950    0.820075    0.432871    1.127420   16.873156  \n",
       "min      0.000000    0.000000    1.000000    0.000000    1.000000    0.000000  \n",
       "25%      1.000000    0.000000    1.000000    1.000000    2.000000    0.000000  \n",
       "50%      1.000000    0.000000    2.000000    1.000000    3.000000    1.000000  \n",
       "75%      1.000000    0.000000    3.000000    1.000000    4.000000    2.000000  \n",
       "max      1.000000    1.000000    3.000000    1.000000    4.000000  118.000000  "
      ]
     },
     "execution_count": 35,
     "metadata": {},
     "output_type": "execute_result"
    }
   ],
   "source": [
    "sal.describe()"
   ]
  },
  {
   "cell_type": "markdown",
   "metadata": {},
   "source": [
    "* The above table tells us the number of observations (514). We expect salary to have 514 because the missing value is now represented by the mean.\n",
    "* The descriptive statistics table also tells us about the means, standard deviations, min and max values as well as the percentiles.\n"
   ]
  },
  {
   "cell_type": "markdown",
   "metadata": {},
   "source": [
    " <a id='feng'></a> <div class=\"alert alert-block alert-info\">\n",
    "\n",
    "### Feature Engineering\n",
    " </div>"
   ]
  },
  {
   "cell_type": "code",
   "execution_count": 36,
   "metadata": {},
   "outputs": [
    {
     "data": {
      "application/vnd.plotly.v1+json": {
       "config": {
        "plotlyServerURL": "https://plot.ly"
       },
       "data": [
        {
         "labels": [
          "Engineering",
          "Finance",
          "Human Resources",
          "Marketing"
         ],
         "type": "pie",
         "values": [
          3,
          2,
          3,
          4,
          4,
          1,
          2,
          4,
          1,
          1,
          1,
          2,
          4,
          4,
          1,
          2,
          3,
          3,
          3,
          2,
          2,
          3,
          4,
          1,
          2,
          4,
          4,
          4,
          4,
          4,
          4,
          2,
          3,
          3,
          3,
          1,
          1,
          2,
          4,
          4,
          4,
          3,
          3,
          2,
          2,
          4,
          1,
          1,
          3,
          3,
          4,
          3,
          3,
          4,
          1,
          1,
          3,
          3,
          3,
          4,
          1,
          3,
          3,
          4,
          4,
          1,
          1,
          2,
          3,
          4,
          4,
          4,
          3,
          3,
          3,
          3,
          4,
          4,
          2,
          3,
          2,
          3,
          4,
          4,
          3,
          3,
          4,
          3,
          3,
          3,
          4,
          3,
          1,
          3,
          3,
          3,
          4,
          4,
          2,
          4,
          4,
          1,
          2,
          2,
          1,
          2,
          2,
          4,
          4,
          2,
          3,
          1,
          2,
          3,
          3,
          3,
          4,
          1,
          3,
          3,
          4,
          3,
          2,
          2,
          4,
          1,
          2,
          3,
          4,
          4,
          2,
          4,
          4,
          2,
          3,
          1,
          3,
          4,
          4,
          1,
          4,
          1,
          4,
          1,
          4,
          4,
          4,
          1,
          2,
          3,
          4,
          1,
          2,
          3,
          3,
          1,
          3,
          3,
          3,
          4,
          1,
          2,
          3,
          3,
          1,
          3,
          4,
          1,
          4,
          4,
          2,
          2,
          4,
          1,
          2,
          2,
          1,
          2,
          2,
          3,
          1,
          1,
          3,
          4,
          4,
          4,
          1,
          2,
          3,
          1,
          1,
          2,
          2,
          3,
          4,
          4,
          1,
          4,
          1,
          2,
          4,
          4,
          2,
          1,
          4,
          1,
          2,
          3,
          4,
          1,
          1,
          2,
          2,
          4,
          1,
          2,
          3,
          3,
          4,
          4,
          4,
          1,
          2,
          2,
          4,
          1,
          1,
          1,
          1,
          2,
          2,
          2,
          3,
          1,
          1,
          1,
          1,
          2,
          3,
          3,
          4,
          4,
          4,
          1,
          1,
          1,
          1,
          2,
          2,
          1,
          1,
          1,
          2,
          2,
          2,
          3,
          3,
          4,
          1,
          1,
          2,
          2,
          2,
          2,
          2,
          2,
          3,
          3,
          3,
          1,
          1,
          1,
          1,
          1,
          1,
          1,
          4,
          4,
          4,
          1,
          1,
          2,
          4,
          1,
          1,
          3,
          3,
          4,
          2,
          2,
          2,
          2,
          2,
          4,
          1,
          1,
          1,
          4,
          1,
          1,
          1,
          1,
          2,
          2,
          3,
          4,
          4,
          1,
          4,
          4,
          1,
          2,
          4,
          4,
          4,
          1,
          2,
          2,
          4,
          2,
          2,
          4,
          2,
          2,
          4,
          4,
          1,
          1,
          2,
          3,
          4,
          1,
          2,
          2,
          2,
          4,
          4,
          1,
          1,
          1,
          1,
          2,
          2,
          3,
          4,
          1,
          2,
          2,
          1,
          1,
          1,
          1,
          2,
          1,
          2,
          2,
          1,
          4,
          4,
          1,
          1,
          3,
          2,
          1,
          1,
          2,
          4,
          1,
          2,
          1,
          2,
          2,
          3,
          1,
          2,
          2,
          2,
          1,
          1,
          3,
          2,
          4,
          2,
          1,
          1,
          3,
          3,
          4,
          1,
          3,
          3,
          3,
          3,
          4,
          2,
          3,
          3,
          4,
          1,
          3,
          3,
          3,
          3,
          4,
          2,
          2,
          3,
          3,
          4,
          3,
          3,
          4,
          2,
          2,
          3,
          3,
          3,
          3,
          2,
          2,
          3,
          3,
          4,
          4,
          4,
          1,
          3,
          3,
          4,
          4,
          4,
          2,
          3,
          3,
          4,
          2,
          3,
          4,
          1,
          3,
          4,
          3,
          3,
          3,
          2,
          3,
          4,
          4,
          3,
          4,
          4,
          4,
          4,
          2,
          2,
          3,
          2,
          2,
          3,
          4,
          4,
          3,
          4,
          3,
          4,
          2,
          3,
          4,
          3,
          1,
          4,
          2,
          3,
          1,
          3,
          1,
          2,
          3,
          3,
          1,
          2,
          1,
          2,
          2,
          2,
          1,
          1,
          3,
          3,
          4,
          4,
          1,
          2,
          3,
          2,
          2,
          4,
          4,
          4,
          3,
          1,
          2,
          4,
          1,
          1,
          2,
          3,
          2,
          4,
          2,
          1,
          4,
          2,
          1
         ]
        }
       ],
       "layout": {
        "template": {
         "data": {
          "bar": [
           {
            "error_x": {
             "color": "#2a3f5f"
            },
            "error_y": {
             "color": "#2a3f5f"
            },
            "marker": {
             "line": {
              "color": "#E5ECF6",
              "width": 0.5
             }
            },
            "type": "bar"
           }
          ],
          "barpolar": [
           {
            "marker": {
             "line": {
              "color": "#E5ECF6",
              "width": 0.5
             }
            },
            "type": "barpolar"
           }
          ],
          "carpet": [
           {
            "aaxis": {
             "endlinecolor": "#2a3f5f",
             "gridcolor": "white",
             "linecolor": "white",
             "minorgridcolor": "white",
             "startlinecolor": "#2a3f5f"
            },
            "baxis": {
             "endlinecolor": "#2a3f5f",
             "gridcolor": "white",
             "linecolor": "white",
             "minorgridcolor": "white",
             "startlinecolor": "#2a3f5f"
            },
            "type": "carpet"
           }
          ],
          "choropleth": [
           {
            "colorbar": {
             "outlinewidth": 0,
             "ticks": ""
            },
            "type": "choropleth"
           }
          ],
          "contour": [
           {
            "colorbar": {
             "outlinewidth": 0,
             "ticks": ""
            },
            "colorscale": [
             [
              0,
              "#0d0887"
             ],
             [
              0.1111111111111111,
              "#46039f"
             ],
             [
              0.2222222222222222,
              "#7201a8"
             ],
             [
              0.3333333333333333,
              "#9c179e"
             ],
             [
              0.4444444444444444,
              "#bd3786"
             ],
             [
              0.5555555555555556,
              "#d8576b"
             ],
             [
              0.6666666666666666,
              "#ed7953"
             ],
             [
              0.7777777777777778,
              "#fb9f3a"
             ],
             [
              0.8888888888888888,
              "#fdca26"
             ],
             [
              1,
              "#f0f921"
             ]
            ],
            "type": "contour"
           }
          ],
          "contourcarpet": [
           {
            "colorbar": {
             "outlinewidth": 0,
             "ticks": ""
            },
            "type": "contourcarpet"
           }
          ],
          "heatmap": [
           {
            "colorbar": {
             "outlinewidth": 0,
             "ticks": ""
            },
            "colorscale": [
             [
              0,
              "#0d0887"
             ],
             [
              0.1111111111111111,
              "#46039f"
             ],
             [
              0.2222222222222222,
              "#7201a8"
             ],
             [
              0.3333333333333333,
              "#9c179e"
             ],
             [
              0.4444444444444444,
              "#bd3786"
             ],
             [
              0.5555555555555556,
              "#d8576b"
             ],
             [
              0.6666666666666666,
              "#ed7953"
             ],
             [
              0.7777777777777778,
              "#fb9f3a"
             ],
             [
              0.8888888888888888,
              "#fdca26"
             ],
             [
              1,
              "#f0f921"
             ]
            ],
            "type": "heatmap"
           }
          ],
          "heatmapgl": [
           {
            "colorbar": {
             "outlinewidth": 0,
             "ticks": ""
            },
            "colorscale": [
             [
              0,
              "#0d0887"
             ],
             [
              0.1111111111111111,
              "#46039f"
             ],
             [
              0.2222222222222222,
              "#7201a8"
             ],
             [
              0.3333333333333333,
              "#9c179e"
             ],
             [
              0.4444444444444444,
              "#bd3786"
             ],
             [
              0.5555555555555556,
              "#d8576b"
             ],
             [
              0.6666666666666666,
              "#ed7953"
             ],
             [
              0.7777777777777778,
              "#fb9f3a"
             ],
             [
              0.8888888888888888,
              "#fdca26"
             ],
             [
              1,
              "#f0f921"
             ]
            ],
            "type": "heatmapgl"
           }
          ],
          "histogram": [
           {
            "marker": {
             "colorbar": {
              "outlinewidth": 0,
              "ticks": ""
             }
            },
            "type": "histogram"
           }
          ],
          "histogram2d": [
           {
            "colorbar": {
             "outlinewidth": 0,
             "ticks": ""
            },
            "colorscale": [
             [
              0,
              "#0d0887"
             ],
             [
              0.1111111111111111,
              "#46039f"
             ],
             [
              0.2222222222222222,
              "#7201a8"
             ],
             [
              0.3333333333333333,
              "#9c179e"
             ],
             [
              0.4444444444444444,
              "#bd3786"
             ],
             [
              0.5555555555555556,
              "#d8576b"
             ],
             [
              0.6666666666666666,
              "#ed7953"
             ],
             [
              0.7777777777777778,
              "#fb9f3a"
             ],
             [
              0.8888888888888888,
              "#fdca26"
             ],
             [
              1,
              "#f0f921"
             ]
            ],
            "type": "histogram2d"
           }
          ],
          "histogram2dcontour": [
           {
            "colorbar": {
             "outlinewidth": 0,
             "ticks": ""
            },
            "colorscale": [
             [
              0,
              "#0d0887"
             ],
             [
              0.1111111111111111,
              "#46039f"
             ],
             [
              0.2222222222222222,
              "#7201a8"
             ],
             [
              0.3333333333333333,
              "#9c179e"
             ],
             [
              0.4444444444444444,
              "#bd3786"
             ],
             [
              0.5555555555555556,
              "#d8576b"
             ],
             [
              0.6666666666666666,
              "#ed7953"
             ],
             [
              0.7777777777777778,
              "#fb9f3a"
             ],
             [
              0.8888888888888888,
              "#fdca26"
             ],
             [
              1,
              "#f0f921"
             ]
            ],
            "type": "histogram2dcontour"
           }
          ],
          "mesh3d": [
           {
            "colorbar": {
             "outlinewidth": 0,
             "ticks": ""
            },
            "type": "mesh3d"
           }
          ],
          "parcoords": [
           {
            "line": {
             "colorbar": {
              "outlinewidth": 0,
              "ticks": ""
             }
            },
            "type": "parcoords"
           }
          ],
          "pie": [
           {
            "automargin": true,
            "type": "pie"
           }
          ],
          "scatter": [
           {
            "marker": {
             "colorbar": {
              "outlinewidth": 0,
              "ticks": ""
             }
            },
            "type": "scatter"
           }
          ],
          "scatter3d": [
           {
            "line": {
             "colorbar": {
              "outlinewidth": 0,
              "ticks": ""
             }
            },
            "marker": {
             "colorbar": {
              "outlinewidth": 0,
              "ticks": ""
             }
            },
            "type": "scatter3d"
           }
          ],
          "scattercarpet": [
           {
            "marker": {
             "colorbar": {
              "outlinewidth": 0,
              "ticks": ""
             }
            },
            "type": "scattercarpet"
           }
          ],
          "scattergeo": [
           {
            "marker": {
             "colorbar": {
              "outlinewidth": 0,
              "ticks": ""
             }
            },
            "type": "scattergeo"
           }
          ],
          "scattergl": [
           {
            "marker": {
             "colorbar": {
              "outlinewidth": 0,
              "ticks": ""
             }
            },
            "type": "scattergl"
           }
          ],
          "scattermapbox": [
           {
            "marker": {
             "colorbar": {
              "outlinewidth": 0,
              "ticks": ""
             }
            },
            "type": "scattermapbox"
           }
          ],
          "scatterpolar": [
           {
            "marker": {
             "colorbar": {
              "outlinewidth": 0,
              "ticks": ""
             }
            },
            "type": "scatterpolar"
           }
          ],
          "scatterpolargl": [
           {
            "marker": {
             "colorbar": {
              "outlinewidth": 0,
              "ticks": ""
             }
            },
            "type": "scatterpolargl"
           }
          ],
          "scatterternary": [
           {
            "marker": {
             "colorbar": {
              "outlinewidth": 0,
              "ticks": ""
             }
            },
            "type": "scatterternary"
           }
          ],
          "surface": [
           {
            "colorbar": {
             "outlinewidth": 0,
             "ticks": ""
            },
            "colorscale": [
             [
              0,
              "#0d0887"
             ],
             [
              0.1111111111111111,
              "#46039f"
             ],
             [
              0.2222222222222222,
              "#7201a8"
             ],
             [
              0.3333333333333333,
              "#9c179e"
             ],
             [
              0.4444444444444444,
              "#bd3786"
             ],
             [
              0.5555555555555556,
              "#d8576b"
             ],
             [
              0.6666666666666666,
              "#ed7953"
             ],
             [
              0.7777777777777778,
              "#fb9f3a"
             ],
             [
              0.8888888888888888,
              "#fdca26"
             ],
             [
              1,
              "#f0f921"
             ]
            ],
            "type": "surface"
           }
          ],
          "table": [
           {
            "cells": {
             "fill": {
              "color": "#EBF0F8"
             },
             "line": {
              "color": "white"
             }
            },
            "header": {
             "fill": {
              "color": "#C8D4E3"
             },
             "line": {
              "color": "white"
             }
            },
            "type": "table"
           }
          ]
         },
         "layout": {
          "annotationdefaults": {
           "arrowcolor": "#2a3f5f",
           "arrowhead": 0,
           "arrowwidth": 1
          },
          "coloraxis": {
           "colorbar": {
            "outlinewidth": 0,
            "ticks": ""
           }
          },
          "colorscale": {
           "diverging": [
            [
             0,
             "#8e0152"
            ],
            [
             0.1,
             "#c51b7d"
            ],
            [
             0.2,
             "#de77ae"
            ],
            [
             0.3,
             "#f1b6da"
            ],
            [
             0.4,
             "#fde0ef"
            ],
            [
             0.5,
             "#f7f7f7"
            ],
            [
             0.6,
             "#e6f5d0"
            ],
            [
             0.7,
             "#b8e186"
            ],
            [
             0.8,
             "#7fbc41"
            ],
            [
             0.9,
             "#4d9221"
            ],
            [
             1,
             "#276419"
            ]
           ],
           "sequential": [
            [
             0,
             "#0d0887"
            ],
            [
             0.1111111111111111,
             "#46039f"
            ],
            [
             0.2222222222222222,
             "#7201a8"
            ],
            [
             0.3333333333333333,
             "#9c179e"
            ],
            [
             0.4444444444444444,
             "#bd3786"
            ],
            [
             0.5555555555555556,
             "#d8576b"
            ],
            [
             0.6666666666666666,
             "#ed7953"
            ],
            [
             0.7777777777777778,
             "#fb9f3a"
            ],
            [
             0.8888888888888888,
             "#fdca26"
            ],
            [
             1,
             "#f0f921"
            ]
           ],
           "sequentialminus": [
            [
             0,
             "#0d0887"
            ],
            [
             0.1111111111111111,
             "#46039f"
            ],
            [
             0.2222222222222222,
             "#7201a8"
            ],
            [
             0.3333333333333333,
             "#9c179e"
            ],
            [
             0.4444444444444444,
             "#bd3786"
            ],
            [
             0.5555555555555556,
             "#d8576b"
            ],
            [
             0.6666666666666666,
             "#ed7953"
            ],
            [
             0.7777777777777778,
             "#fb9f3a"
            ],
            [
             0.8888888888888888,
             "#fdca26"
            ],
            [
             1,
             "#f0f921"
            ]
           ]
          },
          "colorway": [
           "#636efa",
           "#EF553B",
           "#00cc96",
           "#ab63fa",
           "#FFA15A",
           "#19d3f3",
           "#FF6692",
           "#B6E880",
           "#FF97FF",
           "#FECB52"
          ],
          "font": {
           "color": "#2a3f5f"
          },
          "geo": {
           "bgcolor": "white",
           "lakecolor": "white",
           "landcolor": "#E5ECF6",
           "showlakes": true,
           "showland": true,
           "subunitcolor": "white"
          },
          "hoverlabel": {
           "align": "left"
          },
          "hovermode": "closest",
          "mapbox": {
           "style": "light"
          },
          "paper_bgcolor": "white",
          "plot_bgcolor": "#E5ECF6",
          "polar": {
           "angularaxis": {
            "gridcolor": "white",
            "linecolor": "white",
            "ticks": ""
           },
           "bgcolor": "#E5ECF6",
           "radialaxis": {
            "gridcolor": "white",
            "linecolor": "white",
            "ticks": ""
           }
          },
          "scene": {
           "xaxis": {
            "backgroundcolor": "#E5ECF6",
            "gridcolor": "white",
            "gridwidth": 2,
            "linecolor": "white",
            "showbackground": true,
            "ticks": "",
            "zerolinecolor": "white"
           },
           "yaxis": {
            "backgroundcolor": "#E5ECF6",
            "gridcolor": "white",
            "gridwidth": 2,
            "linecolor": "white",
            "showbackground": true,
            "ticks": "",
            "zerolinecolor": "white"
           },
           "zaxis": {
            "backgroundcolor": "#E5ECF6",
            "gridcolor": "white",
            "gridwidth": 2,
            "linecolor": "white",
            "showbackground": true,
            "ticks": "",
            "zerolinecolor": "white"
           }
          },
          "shapedefaults": {
           "line": {
            "color": "#2a3f5f"
           }
          },
          "ternary": {
           "aaxis": {
            "gridcolor": "white",
            "linecolor": "white",
            "ticks": ""
           },
           "baxis": {
            "gridcolor": "white",
            "linecolor": "white",
            "ticks": ""
           },
           "bgcolor": "#E5ECF6",
           "caxis": {
            "gridcolor": "white",
            "linecolor": "white",
            "ticks": ""
           }
          },
          "title": {
           "x": 0.05
          },
          "xaxis": {
           "automargin": true,
           "gridcolor": "white",
           "linecolor": "white",
           "ticks": "",
           "title": {
            "standoff": 15
           },
           "zerolinecolor": "white",
           "zerolinewidth": 2
          },
          "yaxis": {
           "automargin": true,
           "gridcolor": "white",
           "linecolor": "white",
           "ticks": "",
           "title": {
            "standoff": 15
           },
           "zerolinecolor": "white",
           "zerolinewidth": 2
          }
         }
        },
        "title": {
         "text": "Career Fields"
        }
       }
      },
      "text/html": [
       "<div>\n",
       "        \n",
       "        \n",
       "            <div id=\"7e8d758d-15fe-4898-b90d-fc93a3bbd2c9\" class=\"plotly-graph-div\" style=\"height:525px; width:100%;\"></div>\n",
       "            <script type=\"text/javascript\">\n",
       "                require([\"plotly\"], function(Plotly) {\n",
       "                    window.PLOTLYENV=window.PLOTLYENV || {};\n",
       "                    \n",
       "                if (document.getElementById(\"7e8d758d-15fe-4898-b90d-fc93a3bbd2c9\")) {\n",
       "                    Plotly.newPlot(\n",
       "                        '7e8d758d-15fe-4898-b90d-fc93a3bbd2c9',\n",
       "                        [{\"labels\": [\"Engineering\", \"Finance\", \"Human Resources\", \"Marketing\"], \"type\": \"pie\", \"values\": [3, 2, 3, 4, 4, 1, 2, 4, 1, 1, 1, 2, 4, 4, 1, 2, 3, 3, 3, 2, 2, 3, 4, 1, 2, 4, 4, 4, 4, 4, 4, 2, 3, 3, 3, 1, 1, 2, 4, 4, 4, 3, 3, 2, 2, 4, 1, 1, 3, 3, 4, 3, 3, 4, 1, 1, 3, 3, 3, 4, 1, 3, 3, 4, 4, 1, 1, 2, 3, 4, 4, 4, 3, 3, 3, 3, 4, 4, 2, 3, 2, 3, 4, 4, 3, 3, 4, 3, 3, 3, 4, 3, 1, 3, 3, 3, 4, 4, 2, 4, 4, 1, 2, 2, 1, 2, 2, 4, 4, 2, 3, 1, 2, 3, 3, 3, 4, 1, 3, 3, 4, 3, 2, 2, 4, 1, 2, 3, 4, 4, 2, 4, 4, 2, 3, 1, 3, 4, 4, 1, 4, 1, 4, 1, 4, 4, 4, 1, 2, 3, 4, 1, 2, 3, 3, 1, 3, 3, 3, 4, 1, 2, 3, 3, 1, 3, 4, 1, 4, 4, 2, 2, 4, 1, 2, 2, 1, 2, 2, 3, 1, 1, 3, 4, 4, 4, 1, 2, 3, 1, 1, 2, 2, 3, 4, 4, 1, 4, 1, 2, 4, 4, 2, 1, 4, 1, 2, 3, 4, 1, 1, 2, 2, 4, 1, 2, 3, 3, 4, 4, 4, 1, 2, 2, 4, 1, 1, 1, 1, 2, 2, 2, 3, 1, 1, 1, 1, 2, 3, 3, 4, 4, 4, 1, 1, 1, 1, 2, 2, 1, 1, 1, 2, 2, 2, 3, 3, 4, 1, 1, 2, 2, 2, 2, 2, 2, 3, 3, 3, 1, 1, 1, 1, 1, 1, 1, 4, 4, 4, 1, 1, 2, 4, 1, 1, 3, 3, 4, 2, 2, 2, 2, 2, 4, 1, 1, 1, 4, 1, 1, 1, 1, 2, 2, 3, 4, 4, 1, 4, 4, 1, 2, 4, 4, 4, 1, 2, 2, 4, 2, 2, 4, 2, 2, 4, 4, 1, 1, 2, 3, 4, 1, 2, 2, 2, 4, 4, 1, 1, 1, 1, 2, 2, 3, 4, 1, 2, 2, 1, 1, 1, 1, 2, 1, 2, 2, 1, 4, 4, 1, 1, 3, 2, 1, 1, 2, 4, 1, 2, 1, 2, 2, 3, 1, 2, 2, 2, 1, 1, 3, 2, 4, 2, 1, 1, 3, 3, 4, 1, 3, 3, 3, 3, 4, 2, 3, 3, 4, 1, 3, 3, 3, 3, 4, 2, 2, 3, 3, 4, 3, 3, 4, 2, 2, 3, 3, 3, 3, 2, 2, 3, 3, 4, 4, 4, 1, 3, 3, 4, 4, 4, 2, 3, 3, 4, 2, 3, 4, 1, 3, 4, 3, 3, 3, 2, 3, 4, 4, 3, 4, 4, 4, 4, 2, 2, 3, 2, 2, 3, 4, 4, 3, 4, 3, 4, 2, 3, 4, 3, 1, 4, 2, 3, 1, 3, 1, 2, 3, 3, 1, 2, 1, 2, 2, 2, 1, 1, 3, 3, 4, 4, 1, 2, 3, 2, 2, 4, 4, 4, 3, 1, 2, 4, 1, 1, 2, 3, 2, 4, 2, 1, 4, 2, 1]}],\n",
       "                        {\"template\": {\"data\": {\"bar\": [{\"error_x\": {\"color\": \"#2a3f5f\"}, \"error_y\": {\"color\": \"#2a3f5f\"}, \"marker\": {\"line\": {\"color\": \"#E5ECF6\", \"width\": 0.5}}, \"type\": \"bar\"}], \"barpolar\": [{\"marker\": {\"line\": {\"color\": \"#E5ECF6\", \"width\": 0.5}}, \"type\": \"barpolar\"}], \"carpet\": [{\"aaxis\": {\"endlinecolor\": \"#2a3f5f\", \"gridcolor\": \"white\", \"linecolor\": \"white\", \"minorgridcolor\": \"white\", \"startlinecolor\": \"#2a3f5f\"}, \"baxis\": {\"endlinecolor\": \"#2a3f5f\", \"gridcolor\": \"white\", \"linecolor\": \"white\", \"minorgridcolor\": \"white\", \"startlinecolor\": \"#2a3f5f\"}, \"type\": \"carpet\"}], \"choropleth\": [{\"colorbar\": {\"outlinewidth\": 0, \"ticks\": \"\"}, \"type\": \"choropleth\"}], \"contour\": [{\"colorbar\": {\"outlinewidth\": 0, \"ticks\": \"\"}, \"colorscale\": [[0.0, \"#0d0887\"], [0.1111111111111111, \"#46039f\"], [0.2222222222222222, \"#7201a8\"], [0.3333333333333333, \"#9c179e\"], [0.4444444444444444, \"#bd3786\"], [0.5555555555555556, \"#d8576b\"], [0.6666666666666666, \"#ed7953\"], [0.7777777777777778, \"#fb9f3a\"], [0.8888888888888888, \"#fdca26\"], [1.0, \"#f0f921\"]], \"type\": \"contour\"}], \"contourcarpet\": [{\"colorbar\": {\"outlinewidth\": 0, \"ticks\": \"\"}, \"type\": \"contourcarpet\"}], \"heatmap\": [{\"colorbar\": {\"outlinewidth\": 0, \"ticks\": \"\"}, \"colorscale\": [[0.0, \"#0d0887\"], [0.1111111111111111, \"#46039f\"], [0.2222222222222222, \"#7201a8\"], [0.3333333333333333, \"#9c179e\"], [0.4444444444444444, \"#bd3786\"], [0.5555555555555556, \"#d8576b\"], [0.6666666666666666, \"#ed7953\"], [0.7777777777777778, \"#fb9f3a\"], [0.8888888888888888, \"#fdca26\"], [1.0, \"#f0f921\"]], \"type\": \"heatmap\"}], \"heatmapgl\": [{\"colorbar\": {\"outlinewidth\": 0, \"ticks\": \"\"}, \"colorscale\": [[0.0, \"#0d0887\"], [0.1111111111111111, \"#46039f\"], [0.2222222222222222, \"#7201a8\"], [0.3333333333333333, \"#9c179e\"], [0.4444444444444444, \"#bd3786\"], [0.5555555555555556, \"#d8576b\"], [0.6666666666666666, \"#ed7953\"], [0.7777777777777778, \"#fb9f3a\"], [0.8888888888888888, \"#fdca26\"], [1.0, \"#f0f921\"]], \"type\": \"heatmapgl\"}], \"histogram\": [{\"marker\": {\"colorbar\": {\"outlinewidth\": 0, \"ticks\": \"\"}}, \"type\": \"histogram\"}], \"histogram2d\": [{\"colorbar\": {\"outlinewidth\": 0, \"ticks\": \"\"}, \"colorscale\": [[0.0, \"#0d0887\"], [0.1111111111111111, \"#46039f\"], [0.2222222222222222, \"#7201a8\"], [0.3333333333333333, \"#9c179e\"], [0.4444444444444444, \"#bd3786\"], [0.5555555555555556, \"#d8576b\"], [0.6666666666666666, \"#ed7953\"], [0.7777777777777778, \"#fb9f3a\"], [0.8888888888888888, \"#fdca26\"], [1.0, \"#f0f921\"]], \"type\": \"histogram2d\"}], \"histogram2dcontour\": [{\"colorbar\": {\"outlinewidth\": 0, \"ticks\": \"\"}, \"colorscale\": [[0.0, \"#0d0887\"], [0.1111111111111111, \"#46039f\"], [0.2222222222222222, \"#7201a8\"], [0.3333333333333333, \"#9c179e\"], [0.4444444444444444, \"#bd3786\"], [0.5555555555555556, \"#d8576b\"], [0.6666666666666666, \"#ed7953\"], [0.7777777777777778, \"#fb9f3a\"], [0.8888888888888888, \"#fdca26\"], [1.0, \"#f0f921\"]], \"type\": \"histogram2dcontour\"}], \"mesh3d\": [{\"colorbar\": {\"outlinewidth\": 0, \"ticks\": \"\"}, \"type\": \"mesh3d\"}], \"parcoords\": [{\"line\": {\"colorbar\": {\"outlinewidth\": 0, \"ticks\": \"\"}}, \"type\": \"parcoords\"}], \"pie\": [{\"automargin\": true, \"type\": \"pie\"}], \"scatter\": [{\"marker\": {\"colorbar\": {\"outlinewidth\": 0, \"ticks\": \"\"}}, \"type\": \"scatter\"}], \"scatter3d\": [{\"line\": {\"colorbar\": {\"outlinewidth\": 0, \"ticks\": \"\"}}, \"marker\": {\"colorbar\": {\"outlinewidth\": 0, \"ticks\": \"\"}}, \"type\": \"scatter3d\"}], \"scattercarpet\": [{\"marker\": {\"colorbar\": {\"outlinewidth\": 0, \"ticks\": \"\"}}, \"type\": \"scattercarpet\"}], \"scattergeo\": [{\"marker\": {\"colorbar\": {\"outlinewidth\": 0, \"ticks\": \"\"}}, \"type\": \"scattergeo\"}], \"scattergl\": [{\"marker\": {\"colorbar\": {\"outlinewidth\": 0, \"ticks\": \"\"}}, \"type\": \"scattergl\"}], \"scattermapbox\": [{\"marker\": {\"colorbar\": {\"outlinewidth\": 0, \"ticks\": \"\"}}, \"type\": \"scattermapbox\"}], \"scatterpolar\": [{\"marker\": {\"colorbar\": {\"outlinewidth\": 0, \"ticks\": \"\"}}, \"type\": \"scatterpolar\"}], \"scatterpolargl\": [{\"marker\": {\"colorbar\": {\"outlinewidth\": 0, \"ticks\": \"\"}}, \"type\": \"scatterpolargl\"}], \"scatterternary\": [{\"marker\": {\"colorbar\": {\"outlinewidth\": 0, \"ticks\": \"\"}}, \"type\": \"scatterternary\"}], \"surface\": [{\"colorbar\": {\"outlinewidth\": 0, \"ticks\": \"\"}, \"colorscale\": [[0.0, \"#0d0887\"], [0.1111111111111111, \"#46039f\"], [0.2222222222222222, \"#7201a8\"], [0.3333333333333333, \"#9c179e\"], [0.4444444444444444, \"#bd3786\"], [0.5555555555555556, \"#d8576b\"], [0.6666666666666666, \"#ed7953\"], [0.7777777777777778, \"#fb9f3a\"], [0.8888888888888888, \"#fdca26\"], [1.0, \"#f0f921\"]], \"type\": \"surface\"}], \"table\": [{\"cells\": {\"fill\": {\"color\": \"#EBF0F8\"}, \"line\": {\"color\": \"white\"}}, \"header\": {\"fill\": {\"color\": \"#C8D4E3\"}, \"line\": {\"color\": \"white\"}}, \"type\": \"table\"}]}, \"layout\": {\"annotationdefaults\": {\"arrowcolor\": \"#2a3f5f\", \"arrowhead\": 0, \"arrowwidth\": 1}, \"coloraxis\": {\"colorbar\": {\"outlinewidth\": 0, \"ticks\": \"\"}}, \"colorscale\": {\"diverging\": [[0, \"#8e0152\"], [0.1, \"#c51b7d\"], [0.2, \"#de77ae\"], [0.3, \"#f1b6da\"], [0.4, \"#fde0ef\"], [0.5, \"#f7f7f7\"], [0.6, \"#e6f5d0\"], [0.7, \"#b8e186\"], [0.8, \"#7fbc41\"], [0.9, \"#4d9221\"], [1, \"#276419\"]], \"sequential\": [[0.0, \"#0d0887\"], [0.1111111111111111, \"#46039f\"], [0.2222222222222222, \"#7201a8\"], [0.3333333333333333, \"#9c179e\"], [0.4444444444444444, \"#bd3786\"], [0.5555555555555556, \"#d8576b\"], [0.6666666666666666, \"#ed7953\"], [0.7777777777777778, \"#fb9f3a\"], [0.8888888888888888, \"#fdca26\"], [1.0, \"#f0f921\"]], \"sequentialminus\": [[0.0, \"#0d0887\"], [0.1111111111111111, \"#46039f\"], [0.2222222222222222, \"#7201a8\"], [0.3333333333333333, \"#9c179e\"], [0.4444444444444444, \"#bd3786\"], [0.5555555555555556, \"#d8576b\"], [0.6666666666666666, \"#ed7953\"], [0.7777777777777778, \"#fb9f3a\"], [0.8888888888888888, \"#fdca26\"], [1.0, \"#f0f921\"]]}, \"colorway\": [\"#636efa\", \"#EF553B\", \"#00cc96\", \"#ab63fa\", \"#FFA15A\", \"#19d3f3\", \"#FF6692\", \"#B6E880\", \"#FF97FF\", \"#FECB52\"], \"font\": {\"color\": \"#2a3f5f\"}, \"geo\": {\"bgcolor\": \"white\", \"lakecolor\": \"white\", \"landcolor\": \"#E5ECF6\", \"showlakes\": true, \"showland\": true, \"subunitcolor\": \"white\"}, \"hoverlabel\": {\"align\": \"left\"}, \"hovermode\": \"closest\", \"mapbox\": {\"style\": \"light\"}, \"paper_bgcolor\": \"white\", \"plot_bgcolor\": \"#E5ECF6\", \"polar\": {\"angularaxis\": {\"gridcolor\": \"white\", \"linecolor\": \"white\", \"ticks\": \"\"}, \"bgcolor\": \"#E5ECF6\", \"radialaxis\": {\"gridcolor\": \"white\", \"linecolor\": \"white\", \"ticks\": \"\"}}, \"scene\": {\"xaxis\": {\"backgroundcolor\": \"#E5ECF6\", \"gridcolor\": \"white\", \"gridwidth\": 2, \"linecolor\": \"white\", \"showbackground\": true, \"ticks\": \"\", \"zerolinecolor\": \"white\"}, \"yaxis\": {\"backgroundcolor\": \"#E5ECF6\", \"gridcolor\": \"white\", \"gridwidth\": 2, \"linecolor\": \"white\", \"showbackground\": true, \"ticks\": \"\", \"zerolinecolor\": \"white\"}, \"zaxis\": {\"backgroundcolor\": \"#E5ECF6\", \"gridcolor\": \"white\", \"gridwidth\": 2, \"linecolor\": \"white\", \"showbackground\": true, \"ticks\": \"\", \"zerolinecolor\": \"white\"}}, \"shapedefaults\": {\"line\": {\"color\": \"#2a3f5f\"}}, \"ternary\": {\"aaxis\": {\"gridcolor\": \"white\", \"linecolor\": \"white\", \"ticks\": \"\"}, \"baxis\": {\"gridcolor\": \"white\", \"linecolor\": \"white\", \"ticks\": \"\"}, \"bgcolor\": \"#E5ECF6\", \"caxis\": {\"gridcolor\": \"white\", \"linecolor\": \"white\", \"ticks\": \"\"}}, \"title\": {\"x\": 0.05}, \"xaxis\": {\"automargin\": true, \"gridcolor\": \"white\", \"linecolor\": \"white\", \"ticks\": \"\", \"title\": {\"standoff\": 15}, \"zerolinecolor\": \"white\", \"zerolinewidth\": 2}, \"yaxis\": {\"automargin\": true, \"gridcolor\": \"white\", \"linecolor\": \"white\", \"ticks\": \"\", \"title\": {\"standoff\": 15}, \"zerolinecolor\": \"white\", \"zerolinewidth\": 2}}}, \"title\": {\"text\": \"Career Fields\"}},\n",
       "                        {\"responsive\": true}\n",
       "                    ).then(function(){\n",
       "                            \n",
       "var gd = document.getElementById('7e8d758d-15fe-4898-b90d-fc93a3bbd2c9');\n",
       "var x = new MutationObserver(function (mutations, observer) {{\n",
       "        var display = window.getComputedStyle(gd).display;\n",
       "        if (!display || display === 'none') {{\n",
       "            console.log([gd, 'removed!']);\n",
       "            Plotly.purge(gd);\n",
       "            observer.disconnect();\n",
       "        }}\n",
       "}});\n",
       "\n",
       "// Listen for the removal of the full notebook cells\n",
       "var notebookContainer = gd.closest('#notebook-container');\n",
       "if (notebookContainer) {{\n",
       "    x.observe(notebookContainer, {childList: true});\n",
       "}}\n",
       "\n",
       "// Listen for the clearing of the current output cell\n",
       "var outputEl = gd.closest('.output');\n",
       "if (outputEl) {{\n",
       "    x.observe(outputEl, {childList: true});\n",
       "}}\n",
       "\n",
       "                        })\n",
       "                };\n",
       "                });\n",
       "            </script>\n",
       "        </div>"
      ]
     },
     "metadata": {},
     "output_type": "display_data"
    }
   ],
   "source": [
    "import plotly.graph_objs as go\n",
    "\n",
    "field = ['Engineering', 'Finance', 'Human Resources', 'Marketing']\n",
    "trace = go.Pie(labels = field, values = sal.Field)\n",
    "data = [trace]\n",
    "layout = go.Layout(\n",
    "   {\"title\":\"Career Fields\"})\n",
    "fig = go.Figure(data,layout)\n",
    "fig.show()"
   ]
  },
  {
   "cell_type": "markdown",
   "metadata": {},
   "source": [
    "The purpose of this graph is to have an understanding of which career fields are the most dominant within the dataset. The Marketing profession accounts for 33.3%, Eng & HR are tied at second place leaving Finance in last."
   ]
  },
  {
   "cell_type": "code",
   "execution_count": 37,
   "metadata": {},
   "outputs": [],
   "source": [
    "dummies = pd.get_dummies(sal['Field'])\n",
    "\n",
    "dum = dummies.rename(columns={1:'engineering',2:'finance',3:'HR',4:'marketing'})\n",
    "\n",
    "sal2 = pd.concat([sal, dum] ,axis=1, ignore_index=False)\n",
    "sal2.drop(\"Field\", inplace=True, axis=1)"
   ]
  },
  {
   "cell_type": "code",
   "execution_count": 38,
   "metadata": {},
   "outputs": [],
   "source": [
    "sal2['log_salary'] = np.log(sal2.salary)"
   ]
  },
  {
   "cell_type": "markdown",
   "metadata": {},
   "source": [
    "Logarithmic transformations are used to make  better predicted outcomes from a linear reg model.\n"
   ]
  },
  {
   "cell_type": "markdown",
   "metadata": {},
   "source": [
    " <a id='corr'></a> <div class=\"alert alert-block alert-info\">\n",
    "\n",
    "### Correlation Analysis and Statistical Significance \n",
    " </div>"
   ]
  },
  {
   "cell_type": "markdown",
   "metadata": {},
   "source": [
    "> __Model 1 Features:__  exprior, yearsworked, yearsrank, market, degree, otherqual, position, male,\n",
    "Field_dummyvariable1, Field_dummyvariable2, Field_dummyvariable3, yearsabs"
   ]
  },
  {
   "cell_type": "code",
   "execution_count": 39,
   "metadata": {
    "scrolled": true
   },
   "outputs": [
    {
     "data": {
      "text/html": [
       "<style  type=\"text/css\" >\n",
       "    #T_7d26ddbc_9e32_11ea_a33b_bdbb23ce6af7row0_col0 {\n",
       "            background-color:  #b40426;\n",
       "            color:  #f1f1f1;\n",
       "        }    #T_7d26ddbc_9e32_11ea_a33b_bdbb23ce6af7row0_col1 {\n",
       "            background-color:  #9dbdff;\n",
       "            color:  #000000;\n",
       "        }    #T_7d26ddbc_9e32_11ea_a33b_bdbb23ce6af7row0_col2 {\n",
       "            background-color:  #f7ac8e;\n",
       "            color:  #000000;\n",
       "        }    #T_7d26ddbc_9e32_11ea_a33b_bdbb23ce6af7row0_col3 {\n",
       "            background-color:  #f7b194;\n",
       "            color:  #000000;\n",
       "        }    #T_7d26ddbc_9e32_11ea_a33b_bdbb23ce6af7row0_col4 {\n",
       "            background-color:  #e3d9d3;\n",
       "            color:  #000000;\n",
       "        }    #T_7d26ddbc_9e32_11ea_a33b_bdbb23ce6af7row0_col5 {\n",
       "            background-color:  #80a3fa;\n",
       "            color:  #000000;\n",
       "        }    #T_7d26ddbc_9e32_11ea_a33b_bdbb23ce6af7row0_col6 {\n",
       "            background-color:  #a3c2fe;\n",
       "            color:  #000000;\n",
       "        }    #T_7d26ddbc_9e32_11ea_a33b_bdbb23ce6af7row0_col7 {\n",
       "            background-color:  #f29072;\n",
       "            color:  #000000;\n",
       "        }    #T_7d26ddbc_9e32_11ea_a33b_bdbb23ce6af7row0_col8 {\n",
       "            background-color:  #f2c9b4;\n",
       "            color:  #000000;\n",
       "        }    #T_7d26ddbc_9e32_11ea_a33b_bdbb23ce6af7row0_col9 {\n",
       "            background-color:  #adc9fd;\n",
       "            color:  #000000;\n",
       "        }    #T_7d26ddbc_9e32_11ea_a33b_bdbb23ce6af7row0_col10 {\n",
       "            background-color:  #edd1c2;\n",
       "            color:  #000000;\n",
       "        }    #T_7d26ddbc_9e32_11ea_a33b_bdbb23ce6af7row0_col11 {\n",
       "            background-color:  #c9d7f0;\n",
       "            color:  #000000;\n",
       "        }    #T_7d26ddbc_9e32_11ea_a33b_bdbb23ce6af7row0_col12 {\n",
       "            background-color:  #3f53c6;\n",
       "            color:  #f1f1f1;\n",
       "        }    #T_7d26ddbc_9e32_11ea_a33b_bdbb23ce6af7row0_col13 {\n",
       "            background-color:  #5673e0;\n",
       "            color:  #000000;\n",
       "        }    #T_7d26ddbc_9e32_11ea_a33b_bdbb23ce6af7row0_col14 {\n",
       "            background-color:  #b50927;\n",
       "            color:  #f1f1f1;\n",
       "        }    #T_7d26ddbc_9e32_11ea_a33b_bdbb23ce6af7row1_col0 {\n",
       "            background-color:  #bcd2f7;\n",
       "            color:  #000000;\n",
       "        }    #T_7d26ddbc_9e32_11ea_a33b_bdbb23ce6af7row1_col1 {\n",
       "            background-color:  #b40426;\n",
       "            color:  #f1f1f1;\n",
       "        }    #T_7d26ddbc_9e32_11ea_a33b_bdbb23ce6af7row1_col2 {\n",
       "            background-color:  #3f53c6;\n",
       "            color:  #f1f1f1;\n",
       "        }    #T_7d26ddbc_9e32_11ea_a33b_bdbb23ce6af7row1_col3 {\n",
       "            background-color:  #6788ee;\n",
       "            color:  #000000;\n",
       "        }    #T_7d26ddbc_9e32_11ea_a33b_bdbb23ce6af7row1_col4 {\n",
       "            background-color:  #7295f4;\n",
       "            color:  #000000;\n",
       "        }    #T_7d26ddbc_9e32_11ea_a33b_bdbb23ce6af7row1_col5 {\n",
       "            background-color:  #6485ec;\n",
       "            color:  #000000;\n",
       "        }    #T_7d26ddbc_9e32_11ea_a33b_bdbb23ce6af7row1_col6 {\n",
       "            background-color:  #bfd3f6;\n",
       "            color:  #000000;\n",
       "        }    #T_7d26ddbc_9e32_11ea_a33b_bdbb23ce6af7row1_col7 {\n",
       "            background-color:  #a7c5fe;\n",
       "            color:  #000000;\n",
       "        }    #T_7d26ddbc_9e32_11ea_a33b_bdbb23ce6af7row1_col8 {\n",
       "            background-color:  #c4d5f3;\n",
       "            color:  #000000;\n",
       "        }    #T_7d26ddbc_9e32_11ea_a33b_bdbb23ce6af7row1_col9 {\n",
       "            background-color:  #d4dbe6;\n",
       "            color:  #000000;\n",
       "        }    #T_7d26ddbc_9e32_11ea_a33b_bdbb23ce6af7row1_col10 {\n",
       "            background-color:  #9dbdff;\n",
       "            color:  #000000;\n",
       "        }    #T_7d26ddbc_9e32_11ea_a33b_bdbb23ce6af7row1_col11 {\n",
       "            background-color:  #8fb1fe;\n",
       "            color:  #000000;\n",
       "        }    #T_7d26ddbc_9e32_11ea_a33b_bdbb23ce6af7row1_col12 {\n",
       "            background-color:  #9abbff;\n",
       "            color:  #000000;\n",
       "        }    #T_7d26ddbc_9e32_11ea_a33b_bdbb23ce6af7row1_col13 {\n",
       "            background-color:  #8badfd;\n",
       "            color:  #000000;\n",
       "        }    #T_7d26ddbc_9e32_11ea_a33b_bdbb23ce6af7row1_col14 {\n",
       "            background-color:  #bcd2f7;\n",
       "            color:  #000000;\n",
       "        }    #T_7d26ddbc_9e32_11ea_a33b_bdbb23ce6af7row2_col0 {\n",
       "            background-color:  #f59f80;\n",
       "            color:  #000000;\n",
       "        }    #T_7d26ddbc_9e32_11ea_a33b_bdbb23ce6af7row2_col1 {\n",
       "            background-color:  #3b4cc0;\n",
       "            color:  #f1f1f1;\n",
       "        }    #T_7d26ddbc_9e32_11ea_a33b_bdbb23ce6af7row2_col2 {\n",
       "            background-color:  #b40426;\n",
       "            color:  #f1f1f1;\n",
       "        }    #T_7d26ddbc_9e32_11ea_a33b_bdbb23ce6af7row2_col3 {\n",
       "            background-color:  #e36c55;\n",
       "            color:  #000000;\n",
       "        }    #T_7d26ddbc_9e32_11ea_a33b_bdbb23ce6af7row2_col4 {\n",
       "            background-color:  #6788ee;\n",
       "            color:  #000000;\n",
       "        }    #T_7d26ddbc_9e32_11ea_a33b_bdbb23ce6af7row2_col5 {\n",
       "            background-color:  #7b9ff9;\n",
       "            color:  #000000;\n",
       "        }    #T_7d26ddbc_9e32_11ea_a33b_bdbb23ce6af7row2_col6 {\n",
       "            background-color:  #6788ee;\n",
       "            color:  #000000;\n",
       "        }    #T_7d26ddbc_9e32_11ea_a33b_bdbb23ce6af7row2_col7 {\n",
       "            background-color:  #ec8165;\n",
       "            color:  #000000;\n",
       "        }    #T_7d26ddbc_9e32_11ea_a33b_bdbb23ce6af7row2_col8 {\n",
       "            background-color:  #ead4c8;\n",
       "            color:  #000000;\n",
       "        }    #T_7d26ddbc_9e32_11ea_a33b_bdbb23ce6af7row2_col9 {\n",
       "            background-color:  #c5d6f2;\n",
       "            color:  #000000;\n",
       "        }    #T_7d26ddbc_9e32_11ea_a33b_bdbb23ce6af7row2_col10 {\n",
       "            background-color:  #c5d6f2;\n",
       "            color:  #000000;\n",
       "        }    #T_7d26ddbc_9e32_11ea_a33b_bdbb23ce6af7row2_col11 {\n",
       "            background-color:  #b5cdfa;\n",
       "            color:  #000000;\n",
       "        }    #T_7d26ddbc_9e32_11ea_a33b_bdbb23ce6af7row2_col12 {\n",
       "            background-color:  #6384eb;\n",
       "            color:  #000000;\n",
       "        }    #T_7d26ddbc_9e32_11ea_a33b_bdbb23ce6af7row2_col13 {\n",
       "            background-color:  #7597f6;\n",
       "            color:  #000000;\n",
       "        }    #T_7d26ddbc_9e32_11ea_a33b_bdbb23ce6af7row2_col14 {\n",
       "            background-color:  #f39778;\n",
       "            color:  #000000;\n",
       "        }    #T_7d26ddbc_9e32_11ea_a33b_bdbb23ce6af7row3_col0 {\n",
       "            background-color:  #f6a283;\n",
       "            color:  #000000;\n",
       "        }    #T_7d26ddbc_9e32_11ea_a33b_bdbb23ce6af7row3_col1 {\n",
       "            background-color:  #6788ee;\n",
       "            color:  #000000;\n",
       "        }    #T_7d26ddbc_9e32_11ea_a33b_bdbb23ce6af7row3_col2 {\n",
       "            background-color:  #e36b54;\n",
       "            color:  #000000;\n",
       "        }    #T_7d26ddbc_9e32_11ea_a33b_bdbb23ce6af7row3_col3 {\n",
       "            background-color:  #b40426;\n",
       "            color:  #f1f1f1;\n",
       "        }    #T_7d26ddbc_9e32_11ea_a33b_bdbb23ce6af7row3_col4 {\n",
       "            background-color:  #7396f5;\n",
       "            color:  #000000;\n",
       "        }    #T_7d26ddbc_9e32_11ea_a33b_bdbb23ce6af7row3_col5 {\n",
       "            background-color:  #7597f6;\n",
       "            color:  #000000;\n",
       "        }    #T_7d26ddbc_9e32_11ea_a33b_bdbb23ce6af7row3_col6 {\n",
       "            background-color:  #7597f6;\n",
       "            color:  #000000;\n",
       "        }    #T_7d26ddbc_9e32_11ea_a33b_bdbb23ce6af7row3_col7 {\n",
       "            background-color:  #f2c9b4;\n",
       "            color:  #000000;\n",
       "        }    #T_7d26ddbc_9e32_11ea_a33b_bdbb23ce6af7row3_col8 {\n",
       "            background-color:  #e4d9d2;\n",
       "            color:  #000000;\n",
       "        }    #T_7d26ddbc_9e32_11ea_a33b_bdbb23ce6af7row3_col9 {\n",
       "            background-color:  #c1d4f4;\n",
       "            color:  #000000;\n",
       "        }    #T_7d26ddbc_9e32_11ea_a33b_bdbb23ce6af7row3_col10 {\n",
       "            background-color:  #c0d4f5;\n",
       "            color:  #000000;\n",
       "        }    #T_7d26ddbc_9e32_11ea_a33b_bdbb23ce6af7row3_col11 {\n",
       "            background-color:  #bad0f8;\n",
       "            color:  #000000;\n",
       "        }    #T_7d26ddbc_9e32_11ea_a33b_bdbb23ce6af7row3_col12 {\n",
       "            background-color:  #6a8bef;\n",
       "            color:  #000000;\n",
       "        }    #T_7d26ddbc_9e32_11ea_a33b_bdbb23ce6af7row3_col13 {\n",
       "            background-color:  #6e90f2;\n",
       "            color:  #000000;\n",
       "        }    #T_7d26ddbc_9e32_11ea_a33b_bdbb23ce6af7row3_col14 {\n",
       "            background-color:  #f6a385;\n",
       "            color:  #000000;\n",
       "        }    #T_7d26ddbc_9e32_11ea_a33b_bdbb23ce6af7row4_col0 {\n",
       "            background-color:  #f0cdbb;\n",
       "            color:  #000000;\n",
       "        }    #T_7d26ddbc_9e32_11ea_a33b_bdbb23ce6af7row4_col1 {\n",
       "            background-color:  #7093f3;\n",
       "            color:  #000000;\n",
       "        }    #T_7d26ddbc_9e32_11ea_a33b_bdbb23ce6af7row4_col2 {\n",
       "            background-color:  #6b8df0;\n",
       "            color:  #000000;\n",
       "        }    #T_7d26ddbc_9e32_11ea_a33b_bdbb23ce6af7row4_col3 {\n",
       "            background-color:  #7295f4;\n",
       "            color:  #000000;\n",
       "        }    #T_7d26ddbc_9e32_11ea_a33b_bdbb23ce6af7row4_col4 {\n",
       "            background-color:  #b40426;\n",
       "            color:  #f1f1f1;\n",
       "        }    #T_7d26ddbc_9e32_11ea_a33b_bdbb23ce6af7row4_col5 {\n",
       "            background-color:  #7da0f9;\n",
       "            color:  #000000;\n",
       "        }    #T_7d26ddbc_9e32_11ea_a33b_bdbb23ce6af7row4_col6 {\n",
       "            background-color:  #799cf8;\n",
       "            color:  #000000;\n",
       "        }    #T_7d26ddbc_9e32_11ea_a33b_bdbb23ce6af7row4_col7 {\n",
       "            background-color:  #84a7fc;\n",
       "            color:  #000000;\n",
       "        }    #T_7d26ddbc_9e32_11ea_a33b_bdbb23ce6af7row4_col8 {\n",
       "            background-color:  #dbdcde;\n",
       "            color:  #000000;\n",
       "        }    #T_7d26ddbc_9e32_11ea_a33b_bdbb23ce6af7row4_col9 {\n",
       "            background-color:  #97b8ff;\n",
       "            color:  #000000;\n",
       "        }    #T_7d26ddbc_9e32_11ea_a33b_bdbb23ce6af7row4_col10 {\n",
       "            background-color:  #c1d4f4;\n",
       "            color:  #000000;\n",
       "        }    #T_7d26ddbc_9e32_11ea_a33b_bdbb23ce6af7row4_col11 {\n",
       "            background-color:  #aec9fc;\n",
       "            color:  #000000;\n",
       "        }    #T_7d26ddbc_9e32_11ea_a33b_bdbb23ce6af7row4_col12 {\n",
       "            background-color:  #6788ee;\n",
       "            color:  #000000;\n",
       "        }    #T_7d26ddbc_9e32_11ea_a33b_bdbb23ce6af7row4_col13 {\n",
       "            background-color:  #7da0f9;\n",
       "            color:  #000000;\n",
       "        }    #T_7d26ddbc_9e32_11ea_a33b_bdbb23ce6af7row4_col14 {\n",
       "            background-color:  #f2cbb7;\n",
       "            color:  #000000;\n",
       "        }    #T_7d26ddbc_9e32_11ea_a33b_bdbb23ce6af7row5_col0 {\n",
       "            background-color:  #aac7fd;\n",
       "            color:  #000000;\n",
       "        }    #T_7d26ddbc_9e32_11ea_a33b_bdbb23ce6af7row5_col1 {\n",
       "            background-color:  #6c8ff1;\n",
       "            color:  #000000;\n",
       "        }    #T_7d26ddbc_9e32_11ea_a33b_bdbb23ce6af7row5_col2 {\n",
       "            background-color:  #86a9fc;\n",
       "            color:  #000000;\n",
       "        }    #T_7d26ddbc_9e32_11ea_a33b_bdbb23ce6af7row5_col3 {\n",
       "            background-color:  #7b9ff9;\n",
       "            color:  #000000;\n",
       "        }    #T_7d26ddbc_9e32_11ea_a33b_bdbb23ce6af7row5_col4 {\n",
       "            background-color:  #85a8fc;\n",
       "            color:  #000000;\n",
       "        }    #T_7d26ddbc_9e32_11ea_a33b_bdbb23ce6af7row5_col5 {\n",
       "            background-color:  #b40426;\n",
       "            color:  #f1f1f1;\n",
       "        }    #T_7d26ddbc_9e32_11ea_a33b_bdbb23ce6af7row5_col6 {\n",
       "            background-color:  #3b4cc0;\n",
       "            color:  #f1f1f1;\n",
       "        }    #T_7d26ddbc_9e32_11ea_a33b_bdbb23ce6af7row5_col7 {\n",
       "            background-color:  #93b5fe;\n",
       "            color:  #000000;\n",
       "        }    #T_7d26ddbc_9e32_11ea_a33b_bdbb23ce6af7row5_col8 {\n",
       "            background-color:  #c6d6f1;\n",
       "            color:  #000000;\n",
       "        }    #T_7d26ddbc_9e32_11ea_a33b_bdbb23ce6af7row5_col9 {\n",
       "            background-color:  #c0d4f5;\n",
       "            color:  #000000;\n",
       "        }    #T_7d26ddbc_9e32_11ea_a33b_bdbb23ce6af7row5_col10 {\n",
       "            background-color:  #a5c3fe;\n",
       "            color:  #000000;\n",
       "        }    #T_7d26ddbc_9e32_11ea_a33b_bdbb23ce6af7row5_col11 {\n",
       "            background-color:  #97b8ff;\n",
       "            color:  #000000;\n",
       "        }    #T_7d26ddbc_9e32_11ea_a33b_bdbb23ce6af7row5_col12 {\n",
       "            background-color:  #94b6ff;\n",
       "            color:  #000000;\n",
       "        }    #T_7d26ddbc_9e32_11ea_a33b_bdbb23ce6af7row5_col13 {\n",
       "            background-color:  #80a3fa;\n",
       "            color:  #000000;\n",
       "        }    #T_7d26ddbc_9e32_11ea_a33b_bdbb23ce6af7row5_col14 {\n",
       "            background-color:  #afcafc;\n",
       "            color:  #000000;\n",
       "        }    #T_7d26ddbc_9e32_11ea_a33b_bdbb23ce6af7row6_col0 {\n",
       "            background-color:  #c6d6f1;\n",
       "            color:  #000000;\n",
       "        }    #T_7d26ddbc_9e32_11ea_a33b_bdbb23ce6af7row6_col1 {\n",
       "            background-color:  #c4d5f3;\n",
       "            color:  #000000;\n",
       "        }    #T_7d26ddbc_9e32_11ea_a33b_bdbb23ce6af7row6_col2 {\n",
       "            background-color:  #7396f5;\n",
       "            color:  #000000;\n",
       "        }    #T_7d26ddbc_9e32_11ea_a33b_bdbb23ce6af7row6_col3 {\n",
       "            background-color:  #7b9ff9;\n",
       "            color:  #000000;\n",
       "        }    #T_7d26ddbc_9e32_11ea_a33b_bdbb23ce6af7row6_col4 {\n",
       "            background-color:  #81a4fb;\n",
       "            color:  #000000;\n",
       "        }    #T_7d26ddbc_9e32_11ea_a33b_bdbb23ce6af7row6_col5 {\n",
       "            background-color:  #3b4cc0;\n",
       "            color:  #f1f1f1;\n",
       "        }    #T_7d26ddbc_9e32_11ea_a33b_bdbb23ce6af7row6_col6 {\n",
       "            background-color:  #b40426;\n",
       "            color:  #f1f1f1;\n",
       "        }    #T_7d26ddbc_9e32_11ea_a33b_bdbb23ce6af7row6_col7 {\n",
       "            background-color:  #b2ccfb;\n",
       "            color:  #000000;\n",
       "        }    #T_7d26ddbc_9e32_11ea_a33b_bdbb23ce6af7row6_col8 {\n",
       "            background-color:  #bed2f6;\n",
       "            color:  #000000;\n",
       "        }    #T_7d26ddbc_9e32_11ea_a33b_bdbb23ce6af7row6_col9 {\n",
       "            background-color:  #b7cff9;\n",
       "            color:  #000000;\n",
       "        }    #T_7d26ddbc_9e32_11ea_a33b_bdbb23ce6af7row6_col10 {\n",
       "            background-color:  #96b7ff;\n",
       "            color:  #000000;\n",
       "        }    #T_7d26ddbc_9e32_11ea_a33b_bdbb23ce6af7row6_col11 {\n",
       "            background-color:  #a7c5fe;\n",
       "            color:  #000000;\n",
       "        }    #T_7d26ddbc_9e32_11ea_a33b_bdbb23ce6af7row6_col12 {\n",
       "            background-color:  #90b2fe;\n",
       "            color:  #000000;\n",
       "        }    #T_7d26ddbc_9e32_11ea_a33b_bdbb23ce6af7row6_col13 {\n",
       "            background-color:  #82a6fb;\n",
       "            color:  #000000;\n",
       "        }    #T_7d26ddbc_9e32_11ea_a33b_bdbb23ce6af7row6_col14 {\n",
       "            background-color:  #c7d7f0;\n",
       "            color:  #000000;\n",
       "        }    #T_7d26ddbc_9e32_11ea_a33b_bdbb23ce6af7row7_col0 {\n",
       "            background-color:  #ef886b;\n",
       "            color:  #000000;\n",
       "        }    #T_7d26ddbc_9e32_11ea_a33b_bdbb23ce6af7row7_col1 {\n",
       "            background-color:  #9bbcff;\n",
       "            color:  #000000;\n",
       "        }    #T_7d26ddbc_9e32_11ea_a33b_bdbb23ce6af7row7_col2 {\n",
       "            background-color:  #ee8468;\n",
       "            color:  #000000;\n",
       "        }    #T_7d26ddbc_9e32_11ea_a33b_bdbb23ce6af7row7_col3 {\n",
       "            background-color:  #efcebd;\n",
       "            color:  #000000;\n",
       "        }    #T_7d26ddbc_9e32_11ea_a33b_bdbb23ce6af7row7_col4 {\n",
       "            background-color:  #779af7;\n",
       "            color:  #000000;\n",
       "        }    #T_7d26ddbc_9e32_11ea_a33b_bdbb23ce6af7row7_col5 {\n",
       "            background-color:  #80a3fa;\n",
       "            color:  #000000;\n",
       "        }    #T_7d26ddbc_9e32_11ea_a33b_bdbb23ce6af7row7_col6 {\n",
       "            background-color:  #a2c1ff;\n",
       "            color:  #000000;\n",
       "        }    #T_7d26ddbc_9e32_11ea_a33b_bdbb23ce6af7row7_col7 {\n",
       "            background-color:  #b40426;\n",
       "            color:  #f1f1f1;\n",
       "        }    #T_7d26ddbc_9e32_11ea_a33b_bdbb23ce6af7row7_col8 {\n",
       "            background-color:  #efcfbf;\n",
       "            color:  #000000;\n",
       "        }    #T_7d26ddbc_9e32_11ea_a33b_bdbb23ce6af7row7_col9 {\n",
       "            background-color:  #c0d4f5;\n",
       "            color:  #000000;\n",
       "        }    #T_7d26ddbc_9e32_11ea_a33b_bdbb23ce6af7row7_col10 {\n",
       "            background-color:  #cfdaea;\n",
       "            color:  #000000;\n",
       "        }    #T_7d26ddbc_9e32_11ea_a33b_bdbb23ce6af7row7_col11 {\n",
       "            background-color:  #b2ccfb;\n",
       "            color:  #000000;\n",
       "        }    #T_7d26ddbc_9e32_11ea_a33b_bdbb23ce6af7row7_col12 {\n",
       "            background-color:  #5a78e4;\n",
       "            color:  #000000;\n",
       "        }    #T_7d26ddbc_9e32_11ea_a33b_bdbb23ce6af7row7_col13 {\n",
       "            background-color:  #7699f6;\n",
       "            color:  #000000;\n",
       "        }    #T_7d26ddbc_9e32_11ea_a33b_bdbb23ce6af7row7_col14 {\n",
       "            background-color:  #ec7f63;\n",
       "            color:  #000000;\n",
       "        }    #T_7d26ddbc_9e32_11ea_a33b_bdbb23ce6af7row8_col0 {\n",
       "            background-color:  #ead4c8;\n",
       "            color:  #000000;\n",
       "        }    #T_7d26ddbc_9e32_11ea_a33b_bdbb23ce6af7row8_col1 {\n",
       "            background-color:  #88abfd;\n",
       "            color:  #000000;\n",
       "        }    #T_7d26ddbc_9e32_11ea_a33b_bdbb23ce6af7row8_col2 {\n",
       "            background-color:  #cad8ef;\n",
       "            color:  #000000;\n",
       "        }    #T_7d26ddbc_9e32_11ea_a33b_bdbb23ce6af7row8_col3 {\n",
       "            background-color:  #bbd1f8;\n",
       "            color:  #000000;\n",
       "        }    #T_7d26ddbc_9e32_11ea_a33b_bdbb23ce6af7row8_col4 {\n",
       "            background-color:  #aec9fc;\n",
       "            color:  #000000;\n",
       "        }    #T_7d26ddbc_9e32_11ea_a33b_bdbb23ce6af7row8_col5 {\n",
       "            background-color:  #85a8fc;\n",
       "            color:  #000000;\n",
       "        }    #T_7d26ddbc_9e32_11ea_a33b_bdbb23ce6af7row8_col6 {\n",
       "            background-color:  #779af7;\n",
       "            color:  #000000;\n",
       "        }    #T_7d26ddbc_9e32_11ea_a33b_bdbb23ce6af7row8_col7 {\n",
       "            background-color:  #d7dce3;\n",
       "            color:  #000000;\n",
       "        }    #T_7d26ddbc_9e32_11ea_a33b_bdbb23ce6af7row8_col8 {\n",
       "            background-color:  #b40426;\n",
       "            color:  #f1f1f1;\n",
       "        }    #T_7d26ddbc_9e32_11ea_a33b_bdbb23ce6af7row8_col9 {\n",
       "            background-color:  #3b4cc0;\n",
       "            color:  #f1f1f1;\n",
       "        }    #T_7d26ddbc_9e32_11ea_a33b_bdbb23ce6af7row8_col10 {\n",
       "            background-color:  #b5cdfa;\n",
       "            color:  #000000;\n",
       "        }    #T_7d26ddbc_9e32_11ea_a33b_bdbb23ce6af7row8_col11 {\n",
       "            background-color:  #94b6ff;\n",
       "            color:  #000000;\n",
       "        }    #T_7d26ddbc_9e32_11ea_a33b_bdbb23ce6af7row8_col12 {\n",
       "            background-color:  #7b9ff9;\n",
       "            color:  #000000;\n",
       "        }    #T_7d26ddbc_9e32_11ea_a33b_bdbb23ce6af7row8_col13 {\n",
       "            background-color:  #8caffe;\n",
       "            color:  #000000;\n",
       "        }    #T_7d26ddbc_9e32_11ea_a33b_bdbb23ce6af7row8_col14 {\n",
       "            background-color:  #edd2c3;\n",
       "            color:  #000000;\n",
       "        }    #T_7d26ddbc_9e32_11ea_a33b_bdbb23ce6af7row9_col0 {\n",
       "            background-color:  #8fb1fe;\n",
       "            color:  #000000;\n",
       "        }    #T_7d26ddbc_9e32_11ea_a33b_bdbb23ce6af7row9_col1 {\n",
       "            background-color:  #9fbfff;\n",
       "            color:  #000000;\n",
       "        }    #T_7d26ddbc_9e32_11ea_a33b_bdbb23ce6af7row9_col2 {\n",
       "            background-color:  #8fb1fe;\n",
       "            color:  #000000;\n",
       "        }    #T_7d26ddbc_9e32_11ea_a33b_bdbb23ce6af7row9_col3 {\n",
       "            background-color:  #84a7fc;\n",
       "            color:  #000000;\n",
       "        }    #T_7d26ddbc_9e32_11ea_a33b_bdbb23ce6af7row9_col4 {\n",
       "            background-color:  #4f69d9;\n",
       "            color:  #000000;\n",
       "        }    #T_7d26ddbc_9e32_11ea_a33b_bdbb23ce6af7row9_col5 {\n",
       "            background-color:  #7b9ff9;\n",
       "            color:  #000000;\n",
       "        }    #T_7d26ddbc_9e32_11ea_a33b_bdbb23ce6af7row9_col6 {\n",
       "            background-color:  #6e90f2;\n",
       "            color:  #000000;\n",
       "        }    #T_7d26ddbc_9e32_11ea_a33b_bdbb23ce6af7row9_col7 {\n",
       "            background-color:  #90b2fe;\n",
       "            color:  #000000;\n",
       "        }    #T_7d26ddbc_9e32_11ea_a33b_bdbb23ce6af7row9_col8 {\n",
       "            background-color:  #3b4cc0;\n",
       "            color:  #f1f1f1;\n",
       "        }    #T_7d26ddbc_9e32_11ea_a33b_bdbb23ce6af7row9_col9 {\n",
       "            background-color:  #b40426;\n",
       "            color:  #f1f1f1;\n",
       "        }    #T_7d26ddbc_9e32_11ea_a33b_bdbb23ce6af7row9_col10 {\n",
       "            background-color:  #88abfd;\n",
       "            color:  #000000;\n",
       "        }    #T_7d26ddbc_9e32_11ea_a33b_bdbb23ce6af7row9_col11 {\n",
       "            background-color:  #96b7ff;\n",
       "            color:  #000000;\n",
       "        }    #T_7d26ddbc_9e32_11ea_a33b_bdbb23ce6af7row9_col12 {\n",
       "            background-color:  #a6c4fe;\n",
       "            color:  #000000;\n",
       "        }    #T_7d26ddbc_9e32_11ea_a33b_bdbb23ce6af7row9_col13 {\n",
       "            background-color:  #89acfd;\n",
       "            color:  #000000;\n",
       "        }    #T_7d26ddbc_9e32_11ea_a33b_bdbb23ce6af7row9_col14 {\n",
       "            background-color:  #97b8ff;\n",
       "            color:  #000000;\n",
       "        }    #T_7d26ddbc_9e32_11ea_a33b_bdbb23ce6af7row10_col0 {\n",
       "            background-color:  #f2cbb7;\n",
       "            color:  #000000;\n",
       "        }    #T_7d26ddbc_9e32_11ea_a33b_bdbb23ce6af7row10_col1 {\n",
       "            background-color:  #89acfd;\n",
       "            color:  #000000;\n",
       "        }    #T_7d26ddbc_9e32_11ea_a33b_bdbb23ce6af7row10_col2 {\n",
       "            background-color:  #bad0f8;\n",
       "            color:  #000000;\n",
       "        }    #T_7d26ddbc_9e32_11ea_a33b_bdbb23ce6af7row10_col3 {\n",
       "            background-color:  #b1cbfc;\n",
       "            color:  #000000;\n",
       "        }    #T_7d26ddbc_9e32_11ea_a33b_bdbb23ce6af7row10_col4 {\n",
       "            background-color:  #b2ccfb;\n",
       "            color:  #000000;\n",
       "        }    #T_7d26ddbc_9e32_11ea_a33b_bdbb23ce6af7row10_col5 {\n",
       "            background-color:  #8badfd;\n",
       "            color:  #000000;\n",
       "        }    #T_7d26ddbc_9e32_11ea_a33b_bdbb23ce6af7row10_col6 {\n",
       "            background-color:  #7b9ff9;\n",
       "            color:  #000000;\n",
       "        }    #T_7d26ddbc_9e32_11ea_a33b_bdbb23ce6af7row10_col7 {\n",
       "            background-color:  #cbd8ee;\n",
       "            color:  #000000;\n",
       "        }    #T_7d26ddbc_9e32_11ea_a33b_bdbb23ce6af7row10_col8 {\n",
       "            background-color:  #d6dce4;\n",
       "            color:  #000000;\n",
       "        }    #T_7d26ddbc_9e32_11ea_a33b_bdbb23ce6af7row10_col9 {\n",
       "            background-color:  #b6cefa;\n",
       "            color:  #000000;\n",
       "        }    #T_7d26ddbc_9e32_11ea_a33b_bdbb23ce6af7row10_col10 {\n",
       "            background-color:  #b40426;\n",
       "            color:  #f1f1f1;\n",
       "        }    #T_7d26ddbc_9e32_11ea_a33b_bdbb23ce6af7row10_col11 {\n",
       "            background-color:  #3e51c5;\n",
       "            color:  #f1f1f1;\n",
       "        }    #T_7d26ddbc_9e32_11ea_a33b_bdbb23ce6af7row10_col12 {\n",
       "            background-color:  #5673e0;\n",
       "            color:  #000000;\n",
       "        }    #T_7d26ddbc_9e32_11ea_a33b_bdbb23ce6af7row10_col13 {\n",
       "            background-color:  #3b4cc0;\n",
       "            color:  #f1f1f1;\n",
       "        }    #T_7d26ddbc_9e32_11ea_a33b_bdbb23ce6af7row10_col14 {\n",
       "            background-color:  #f2cab5;\n",
       "            color:  #000000;\n",
       "        }    #T_7d26ddbc_9e32_11ea_a33b_bdbb23ce6af7row11_col0 {\n",
       "            background-color:  #d3dbe7;\n",
       "            color:  #000000;\n",
       "        }    #T_7d26ddbc_9e32_11ea_a33b_bdbb23ce6af7row11_col1 {\n",
       "            background-color:  #7b9ff9;\n",
       "            color:  #000000;\n",
       "        }    #T_7d26ddbc_9e32_11ea_a33b_bdbb23ce6af7row11_col2 {\n",
       "            background-color:  #a9c6fd;\n",
       "            color:  #000000;\n",
       "        }    #T_7d26ddbc_9e32_11ea_a33b_bdbb23ce6af7row11_col3 {\n",
       "            background-color:  #a9c6fd;\n",
       "            color:  #000000;\n",
       "        }    #T_7d26ddbc_9e32_11ea_a33b_bdbb23ce6af7row11_col4 {\n",
       "            background-color:  #9dbdff;\n",
       "            color:  #000000;\n",
       "        }    #T_7d26ddbc_9e32_11ea_a33b_bdbb23ce6af7row11_col5 {\n",
       "            background-color:  #7da0f9;\n",
       "            color:  #000000;\n",
       "        }    #T_7d26ddbc_9e32_11ea_a33b_bdbb23ce6af7row11_col6 {\n",
       "            background-color:  #8fb1fe;\n",
       "            color:  #000000;\n",
       "        }    #T_7d26ddbc_9e32_11ea_a33b_bdbb23ce6af7row11_col7 {\n",
       "            background-color:  #adc9fd;\n",
       "            color:  #000000;\n",
       "        }    #T_7d26ddbc_9e32_11ea_a33b_bdbb23ce6af7row11_col8 {\n",
       "            background-color:  #c0d4f5;\n",
       "            color:  #000000;\n",
       "        }    #T_7d26ddbc_9e32_11ea_a33b_bdbb23ce6af7row11_col9 {\n",
       "            background-color:  #c0d4f5;\n",
       "            color:  #000000;\n",
       "        }    #T_7d26ddbc_9e32_11ea_a33b_bdbb23ce6af7row11_col10 {\n",
       "            background-color:  #3e51c5;\n",
       "            color:  #f1f1f1;\n",
       "        }    #T_7d26ddbc_9e32_11ea_a33b_bdbb23ce6af7row11_col11 {\n",
       "            background-color:  #b40426;\n",
       "            color:  #f1f1f1;\n",
       "        }    #T_7d26ddbc_9e32_11ea_a33b_bdbb23ce6af7row11_col12 {\n",
       "            background-color:  #5673e0;\n",
       "            color:  #000000;\n",
       "        }    #T_7d26ddbc_9e32_11ea_a33b_bdbb23ce6af7row11_col13 {\n",
       "            background-color:  #3b4cc0;\n",
       "            color:  #f1f1f1;\n",
       "        }    #T_7d26ddbc_9e32_11ea_a33b_bdbb23ce6af7row11_col14 {\n",
       "            background-color:  #d7dce3;\n",
       "            color:  #000000;\n",
       "        }    #T_7d26ddbc_9e32_11ea_a33b_bdbb23ce6af7row12_col0 {\n",
       "            background-color:  #3b4cc0;\n",
       "            color:  #f1f1f1;\n",
       "        }    #T_7d26ddbc_9e32_11ea_a33b_bdbb23ce6af7row12_col1 {\n",
       "            background-color:  #6f92f3;\n",
       "            color:  #000000;\n",
       "        }    #T_7d26ddbc_9e32_11ea_a33b_bdbb23ce6af7row12_col2 {\n",
       "            background-color:  #3b4cc0;\n",
       "            color:  #f1f1f1;\n",
       "        }    #T_7d26ddbc_9e32_11ea_a33b_bdbb23ce6af7row12_col3 {\n",
       "            background-color:  #3b4cc0;\n",
       "            color:  #f1f1f1;\n",
       "        }    #T_7d26ddbc_9e32_11ea_a33b_bdbb23ce6af7row12_col4 {\n",
       "            background-color:  #3b4cc0;\n",
       "            color:  #f1f1f1;\n",
       "        }    #T_7d26ddbc_9e32_11ea_a33b_bdbb23ce6af7row12_col5 {\n",
       "            background-color:  #6180e9;\n",
       "            color:  #000000;\n",
       "        }    #T_7d26ddbc_9e32_11ea_a33b_bdbb23ce6af7row12_col6 {\n",
       "            background-color:  #5d7ce6;\n",
       "            color:  #000000;\n",
       "        }    #T_7d26ddbc_9e32_11ea_a33b_bdbb23ce6af7row12_col7 {\n",
       "            background-color:  #3b4cc0;\n",
       "            color:  #f1f1f1;\n",
       "        }    #T_7d26ddbc_9e32_11ea_a33b_bdbb23ce6af7row12_col8 {\n",
       "            background-color:  #98b9ff;\n",
       "            color:  #000000;\n",
       "        }    #T_7d26ddbc_9e32_11ea_a33b_bdbb23ce6af7row12_col9 {\n",
       "            background-color:  #bed2f6;\n",
       "            color:  #000000;\n",
       "        }    #T_7d26ddbc_9e32_11ea_a33b_bdbb23ce6af7row12_col10 {\n",
       "            background-color:  #3e51c5;\n",
       "            color:  #f1f1f1;\n",
       "        }    #T_7d26ddbc_9e32_11ea_a33b_bdbb23ce6af7row12_col11 {\n",
       "            background-color:  #3e51c5;\n",
       "            color:  #f1f1f1;\n",
       "        }    #T_7d26ddbc_9e32_11ea_a33b_bdbb23ce6af7row12_col12 {\n",
       "            background-color:  #b40426;\n",
       "            color:  #f1f1f1;\n",
       "        }    #T_7d26ddbc_9e32_11ea_a33b_bdbb23ce6af7row12_col13 {\n",
       "            background-color:  #3b4cc0;\n",
       "            color:  #f1f1f1;\n",
       "        }    #T_7d26ddbc_9e32_11ea_a33b_bdbb23ce6af7row12_col14 {\n",
       "            background-color:  #3b4cc0;\n",
       "            color:  #f1f1f1;\n",
       "        }    #T_7d26ddbc_9e32_11ea_a33b_bdbb23ce6af7row13_col0 {\n",
       "            background-color:  #6b8df0;\n",
       "            color:  #000000;\n",
       "        }    #T_7d26ddbc_9e32_11ea_a33b_bdbb23ce6af7row13_col1 {\n",
       "            background-color:  #7699f6;\n",
       "            color:  #000000;\n",
       "        }    #T_7d26ddbc_9e32_11ea_a33b_bdbb23ce6af7row13_col2 {\n",
       "            background-color:  #6485ec;\n",
       "            color:  #000000;\n",
       "        }    #T_7d26ddbc_9e32_11ea_a33b_bdbb23ce6af7row13_col3 {\n",
       "            background-color:  #5875e1;\n",
       "            color:  #000000;\n",
       "        }    #T_7d26ddbc_9e32_11ea_a33b_bdbb23ce6af7row13_col4 {\n",
       "            background-color:  #688aef;\n",
       "            color:  #000000;\n",
       "        }    #T_7d26ddbc_9e32_11ea_a33b_bdbb23ce6af7row13_col5 {\n",
       "            background-color:  #6384eb;\n",
       "            color:  #000000;\n",
       "        }    #T_7d26ddbc_9e32_11ea_a33b_bdbb23ce6af7row13_col6 {\n",
       "            background-color:  #6687ed;\n",
       "            color:  #000000;\n",
       "        }    #T_7d26ddbc_9e32_11ea_a33b_bdbb23ce6af7row13_col7 {\n",
       "            background-color:  #6f92f3;\n",
       "            color:  #000000;\n",
       "        }    #T_7d26ddbc_9e32_11ea_a33b_bdbb23ce6af7row13_col8 {\n",
       "            background-color:  #b9d0f9;\n",
       "            color:  #000000;\n",
       "        }    #T_7d26ddbc_9e32_11ea_a33b_bdbb23ce6af7row13_col9 {\n",
       "            background-color:  #b7cff9;\n",
       "            color:  #000000;\n",
       "        }    #T_7d26ddbc_9e32_11ea_a33b_bdbb23ce6af7row13_col10 {\n",
       "            background-color:  #3b4cc0;\n",
       "            color:  #f1f1f1;\n",
       "        }    #T_7d26ddbc_9e32_11ea_a33b_bdbb23ce6af7row13_col11 {\n",
       "            background-color:  #3b4cc0;\n",
       "            color:  #f1f1f1;\n",
       "        }    #T_7d26ddbc_9e32_11ea_a33b_bdbb23ce6af7row13_col12 {\n",
       "            background-color:  #536edd;\n",
       "            color:  #000000;\n",
       "        }    #T_7d26ddbc_9e32_11ea_a33b_bdbb23ce6af7row13_col13 {\n",
       "            background-color:  #b40426;\n",
       "            color:  #f1f1f1;\n",
       "        }    #T_7d26ddbc_9e32_11ea_a33b_bdbb23ce6af7row13_col14 {\n",
       "            background-color:  #7396f5;\n",
       "            color:  #000000;\n",
       "        }    #T_7d26ddbc_9e32_11ea_a33b_bdbb23ce6af7row14_col0 {\n",
       "            background-color:  #b50927;\n",
       "            color:  #f1f1f1;\n",
       "        }    #T_7d26ddbc_9e32_11ea_a33b_bdbb23ce6af7row14_col1 {\n",
       "            background-color:  #98b9ff;\n",
       "            color:  #000000;\n",
       "        }    #T_7d26ddbc_9e32_11ea_a33b_bdbb23ce6af7row14_col2 {\n",
       "            background-color:  #f7a688;\n",
       "            color:  #000000;\n",
       "        }    #T_7d26ddbc_9e32_11ea_a33b_bdbb23ce6af7row14_col3 {\n",
       "            background-color:  #f7b497;\n",
       "            color:  #000000;\n",
       "        }    #T_7d26ddbc_9e32_11ea_a33b_bdbb23ce6af7row14_col4 {\n",
       "            background-color:  #e5d8d1;\n",
       "            color:  #000000;\n",
       "        }    #T_7d26ddbc_9e32_11ea_a33b_bdbb23ce6af7row14_col5 {\n",
       "            background-color:  #82a6fb;\n",
       "            color:  #000000;\n",
       "        }    #T_7d26ddbc_9e32_11ea_a33b_bdbb23ce6af7row14_col6 {\n",
       "            background-color:  #a1c0ff;\n",
       "            color:  #000000;\n",
       "        }    #T_7d26ddbc_9e32_11ea_a33b_bdbb23ce6af7row14_col7 {\n",
       "            background-color:  #ef886b;\n",
       "            color:  #000000;\n",
       "        }    #T_7d26ddbc_9e32_11ea_a33b_bdbb23ce6af7row14_col8 {\n",
       "            background-color:  #f3c8b2;\n",
       "            color:  #000000;\n",
       "        }    #T_7d26ddbc_9e32_11ea_a33b_bdbb23ce6af7row14_col9 {\n",
       "            background-color:  #b1cbfc;\n",
       "            color:  #000000;\n",
       "        }    #T_7d26ddbc_9e32_11ea_a33b_bdbb23ce6af7row14_col10 {\n",
       "            background-color:  #edd2c3;\n",
       "            color:  #000000;\n",
       "        }    #T_7d26ddbc_9e32_11ea_a33b_bdbb23ce6af7row14_col11 {\n",
       "            background-color:  #cad8ef;\n",
       "            color:  #000000;\n",
       "        }    #T_7d26ddbc_9e32_11ea_a33b_bdbb23ce6af7row14_col12 {\n",
       "            background-color:  #3b4cc0;\n",
       "            color:  #f1f1f1;\n",
       "        }    #T_7d26ddbc_9e32_11ea_a33b_bdbb23ce6af7row14_col13 {\n",
       "            background-color:  #5b7ae5;\n",
       "            color:  #000000;\n",
       "        }    #T_7d26ddbc_9e32_11ea_a33b_bdbb23ce6af7row14_col14 {\n",
       "            background-color:  #b40426;\n",
       "            color:  #f1f1f1;\n",
       "        }</style><table id=\"T_7d26ddbc_9e32_11ea_a33b_bdbb23ce6af7\" ><thead>    <tr>        <th class=\"blank level0\" ></th>        <th class=\"col_heading level0 col0\" >salary</th>        <th class=\"col_heading level0 col1\" >exprior</th>        <th class=\"col_heading level0 col2\" >yearsworked</th>        <th class=\"col_heading level0 col3\" >yearsrank</th>        <th class=\"col_heading level0 col4\" >market</th>        <th class=\"col_heading level0 col5\" >degree</th>        <th class=\"col_heading level0 col6\" >otherqual</th>        <th class=\"col_heading level0 col7\" >position</th>        <th class=\"col_heading level0 col8\" >male</th>        <th class=\"col_heading level0 col9\" >yearsabs</th>        <th class=\"col_heading level0 col10\" >engineering</th>        <th class=\"col_heading level0 col11\" >finance</th>        <th class=\"col_heading level0 col12\" >HR</th>        <th class=\"col_heading level0 col13\" >marketing</th>        <th class=\"col_heading level0 col14\" >log_salary</th>    </tr></thead><tbody>\n",
       "                <tr>\n",
       "                        <th id=\"T_7d26ddbc_9e32_11ea_a33b_bdbb23ce6af7level0_row0\" class=\"row_heading level0 row0\" >salary</th>\n",
       "                        <td id=\"T_7d26ddbc_9e32_11ea_a33b_bdbb23ce6af7row0_col0\" class=\"data row0 col0\" >1</td>\n",
       "                        <td id=\"T_7d26ddbc_9e32_11ea_a33b_bdbb23ce6af7row0_col1\" class=\"data row0 col1\" >0.119946</td>\n",
       "                        <td id=\"T_7d26ddbc_9e32_11ea_a33b_bdbb23ce6af7row0_col2\" class=\"data row0 col2\" >0.623135</td>\n",
       "                        <td id=\"T_7d26ddbc_9e32_11ea_a33b_bdbb23ce6af7row0_col3\" class=\"data row0 col3\" >0.61058</td>\n",
       "                        <td id=\"T_7d26ddbc_9e32_11ea_a33b_bdbb23ce6af7row0_col4\" class=\"data row0 col4\" >0.407208</td>\n",
       "                        <td id=\"T_7d26ddbc_9e32_11ea_a33b_bdbb23ce6af7row0_col5\" class=\"data row0 col5\" >0.0445522</td>\n",
       "                        <td id=\"T_7d26ddbc_9e32_11ea_a33b_bdbb23ce6af7row0_col6\" class=\"data row0 col6\" >0.167129</td>\n",
       "                        <td id=\"T_7d26ddbc_9e32_11ea_a33b_bdbb23ce6af7row0_col7\" class=\"data row0 col7\" >0.701354</td>\n",
       "                        <td id=\"T_7d26ddbc_9e32_11ea_a33b_bdbb23ce6af7row0_col8\" class=\"data row0 col8\" >0.361447</td>\n",
       "                        <td id=\"T_7d26ddbc_9e32_11ea_a33b_bdbb23ce6af7row0_col9\" class=\"data row0 col9\" >-0.0696218</td>\n",
       "                        <td id=\"T_7d26ddbc_9e32_11ea_a33b_bdbb23ce6af7row0_col10\" class=\"data row0 col10\" >0.425924</td>\n",
       "                        <td id=\"T_7d26ddbc_9e32_11ea_a33b_bdbb23ce6af7row0_col11\" class=\"data row0 col11\" >0.231553</td>\n",
       "                        <td id=\"T_7d26ddbc_9e32_11ea_a33b_bdbb23ce6af7row0_col12\" class=\"data row0 col12\" >-0.435677</td>\n",
       "                        <td id=\"T_7d26ddbc_9e32_11ea_a33b_bdbb23ce6af7row0_col13\" class=\"data row0 col13\" >-0.216296</td>\n",
       "                        <td id=\"T_7d26ddbc_9e32_11ea_a33b_bdbb23ce6af7row0_col14\" class=\"data row0 col14\" >0.990429</td>\n",
       "            </tr>\n",
       "            <tr>\n",
       "                        <th id=\"T_7d26ddbc_9e32_11ea_a33b_bdbb23ce6af7level0_row1\" class=\"row_heading level0 row1\" >exprior</th>\n",
       "                        <td id=\"T_7d26ddbc_9e32_11ea_a33b_bdbb23ce6af7row1_col0\" class=\"data row1 col0\" >0.119946</td>\n",
       "                        <td id=\"T_7d26ddbc_9e32_11ea_a33b_bdbb23ce6af7row1_col1\" class=\"data row1 col1\" >1</td>\n",
       "                        <td id=\"T_7d26ddbc_9e32_11ea_a33b_bdbb23ce6af7row1_col2\" class=\"data row1 col2\" >-0.246549</td>\n",
       "                        <td id=\"T_7d26ddbc_9e32_11ea_a33b_bdbb23ce6af7row1_col3\" class=\"data row1 col3\" >-0.066403</td>\n",
       "                        <td id=\"T_7d26ddbc_9e32_11ea_a33b_bdbb23ce6af7row1_col4\" class=\"data row1 col4\" >-0.0350411</td>\n",
       "                        <td id=\"T_7d26ddbc_9e32_11ea_a33b_bdbb23ce6af7row1_col5\" class=\"data row1 col5\" >-0.0493727</td>\n",
       "                        <td id=\"T_7d26ddbc_9e32_11ea_a33b_bdbb23ce6af7row1_col6\" class=\"data row1 col6\" >0.264804</td>\n",
       "                        <td id=\"T_7d26ddbc_9e32_11ea_a33b_bdbb23ce6af7row1_col7\" class=\"data row1 col7\" >0.116596</td>\n",
       "                        <td id=\"T_7d26ddbc_9e32_11ea_a33b_bdbb23ce6af7row1_col8\" class=\"data row1 col8\" >0.0465577</td>\n",
       "                        <td id=\"T_7d26ddbc_9e32_11ea_a33b_bdbb23ce6af7row1_col9\" class=\"data row1 col9\" >0.13238</td>\n",
       "                        <td id=\"T_7d26ddbc_9e32_11ea_a33b_bdbb23ce6af7row1_col10\" class=\"data row1 col10\" >0.0541538</td>\n",
       "                        <td id=\"T_7d26ddbc_9e32_11ea_a33b_bdbb23ce6af7row1_col11\" class=\"data row1 col11\" >0.00218748</td>\n",
       "                        <td id=\"T_7d26ddbc_9e32_11ea_a33b_bdbb23ce6af7row1_col12\" class=\"data row1 col12\" >-0.0403305</td>\n",
       "                        <td id=\"T_7d26ddbc_9e32_11ea_a33b_bdbb23ce6af7row1_col13\" class=\"data row1 col13\" >-0.0156135</td>\n",
       "                        <td id=\"T_7d26ddbc_9e32_11ea_a33b_bdbb23ce6af7row1_col14\" class=\"data row1 col14\" >0.106405</td>\n",
       "            </tr>\n",
       "            <tr>\n",
       "                        <th id=\"T_7d26ddbc_9e32_11ea_a33b_bdbb23ce6af7level0_row2\" class=\"row_heading level0 row2\" >yearsworked</th>\n",
       "                        <td id=\"T_7d26ddbc_9e32_11ea_a33b_bdbb23ce6af7row2_col0\" class=\"data row2 col0\" >0.623135</td>\n",
       "                        <td id=\"T_7d26ddbc_9e32_11ea_a33b_bdbb23ce6af7row2_col1\" class=\"data row2 col1\" >-0.246549</td>\n",
       "                        <td id=\"T_7d26ddbc_9e32_11ea_a33b_bdbb23ce6af7row2_col2\" class=\"data row2 col2\" >1</td>\n",
       "                        <td id=\"T_7d26ddbc_9e32_11ea_a33b_bdbb23ce6af7row2_col3\" class=\"data row2 col3\" >0.813471</td>\n",
       "                        <td id=\"T_7d26ddbc_9e32_11ea_a33b_bdbb23ce6af7row2_col4\" class=\"data row2 col4\" >-0.0708964</td>\n",
       "                        <td id=\"T_7d26ddbc_9e32_11ea_a33b_bdbb23ce6af7row2_col5\" class=\"data row2 col5\" >0.028421</td>\n",
       "                        <td id=\"T_7d26ddbc_9e32_11ea_a33b_bdbb23ce6af7row2_col6\" class=\"data row2 col6\" >-0.04049</td>\n",
       "                        <td id=\"T_7d26ddbc_9e32_11ea_a33b_bdbb23ce6af7row2_col7\" class=\"data row2 col7\" >0.746736</td>\n",
       "                        <td id=\"T_7d26ddbc_9e32_11ea_a33b_bdbb23ce6af7row2_col8\" class=\"data row2 col8\" >0.278963</td>\n",
       "                        <td id=\"T_7d26ddbc_9e32_11ea_a33b_bdbb23ce6af7row2_col9\" class=\"data row2 col9\" >0.0554682</td>\n",
       "                        <td id=\"T_7d26ddbc_9e32_11ea_a33b_bdbb23ce6af7row2_col10\" class=\"data row2 col10\" >0.216959</td>\n",
       "                        <td id=\"T_7d26ddbc_9e32_11ea_a33b_bdbb23ce6af7row2_col11\" class=\"data row2 col11\" >0.150811</td>\n",
       "                        <td id=\"T_7d26ddbc_9e32_11ea_a33b_bdbb23ce6af7row2_col12\" class=\"data row2 col12\" >-0.268122</td>\n",
       "                        <td id=\"T_7d26ddbc_9e32_11ea_a33b_bdbb23ce6af7row2_col13\" class=\"data row2 col13\" >-0.0971752</td>\n",
       "                        <td id=\"T_7d26ddbc_9e32_11ea_a33b_bdbb23ce6af7row2_col14\" class=\"data row2 col14\" >0.642096</td>\n",
       "            </tr>\n",
       "            <tr>\n",
       "                        <th id=\"T_7d26ddbc_9e32_11ea_a33b_bdbb23ce6af7level0_row3\" class=\"row_heading level0 row3\" >yearsrank</th>\n",
       "                        <td id=\"T_7d26ddbc_9e32_11ea_a33b_bdbb23ce6af7row3_col0\" class=\"data row3 col0\" >0.61058</td>\n",
       "                        <td id=\"T_7d26ddbc_9e32_11ea_a33b_bdbb23ce6af7row3_col1\" class=\"data row3 col1\" >-0.066403</td>\n",
       "                        <td id=\"T_7d26ddbc_9e32_11ea_a33b_bdbb23ce6af7row3_col2\" class=\"data row3 col2\" >0.813471</td>\n",
       "                        <td id=\"T_7d26ddbc_9e32_11ea_a33b_bdbb23ce6af7row3_col3\" class=\"data row3 col3\" >1</td>\n",
       "                        <td id=\"T_7d26ddbc_9e32_11ea_a33b_bdbb23ce6af7row3_col4\" class=\"data row3 col4\" >-0.0269746</td>\n",
       "                        <td id=\"T_7d26ddbc_9e32_11ea_a33b_bdbb23ce6af7row3_col5\" class=\"data row3 col5\" >0.00651583</td>\n",
       "                        <td id=\"T_7d26ddbc_9e32_11ea_a33b_bdbb23ce6af7row3_col6\" class=\"data row3 col6\" >0.0070362</td>\n",
       "                        <td id=\"T_7d26ddbc_9e32_11ea_a33b_bdbb23ce6af7row3_col7\" class=\"data row3 col7\" >0.48521</td>\n",
       "                        <td id=\"T_7d26ddbc_9e32_11ea_a33b_bdbb23ce6af7row3_col8\" class=\"data row3 col8\" >0.237787</td>\n",
       "                        <td id=\"T_7d26ddbc_9e32_11ea_a33b_bdbb23ce6af7row3_col9\" class=\"data row3 col9\" >0.0356316</td>\n",
       "                        <td id=\"T_7d26ddbc_9e32_11ea_a33b_bdbb23ce6af7row3_col10\" class=\"data row3 col10\" >0.197874</td>\n",
       "                        <td id=\"T_7d26ddbc_9e32_11ea_a33b_bdbb23ce6af7row3_col11\" class=\"data row3 col11\" >0.169645</td>\n",
       "                        <td id=\"T_7d26ddbc_9e32_11ea_a33b_bdbb23ce6af7row3_col12\" class=\"data row3 col12\" >-0.241797</td>\n",
       "                        <td id=\"T_7d26ddbc_9e32_11ea_a33b_bdbb23ce6af7row3_col13\" class=\"data row3 col13\" >-0.122602</td>\n",
       "                        <td id=\"T_7d26ddbc_9e32_11ea_a33b_bdbb23ce6af7row3_col14\" class=\"data row3 col14\" >0.59932</td>\n",
       "            </tr>\n",
       "            <tr>\n",
       "                        <th id=\"T_7d26ddbc_9e32_11ea_a33b_bdbb23ce6af7level0_row4\" class=\"row_heading level0 row4\" >market</th>\n",
       "                        <td id=\"T_7d26ddbc_9e32_11ea_a33b_bdbb23ce6af7row4_col0\" class=\"data row4 col0\" >0.407208</td>\n",
       "                        <td id=\"T_7d26ddbc_9e32_11ea_a33b_bdbb23ce6af7row4_col1\" class=\"data row4 col1\" >-0.0350411</td>\n",
       "                        <td id=\"T_7d26ddbc_9e32_11ea_a33b_bdbb23ce6af7row4_col2\" class=\"data row4 col2\" >-0.0708964</td>\n",
       "                        <td id=\"T_7d26ddbc_9e32_11ea_a33b_bdbb23ce6af7row4_col3\" class=\"data row4 col3\" >-0.0269746</td>\n",
       "                        <td id=\"T_7d26ddbc_9e32_11ea_a33b_bdbb23ce6af7row4_col4\" class=\"data row4 col4\" >1</td>\n",
       "                        <td id=\"T_7d26ddbc_9e32_11ea_a33b_bdbb23ce6af7row4_col5\" class=\"data row4 col5\" >0.036408</td>\n",
       "                        <td id=\"T_7d26ddbc_9e32_11ea_a33b_bdbb23ce6af7row4_col6\" class=\"data row4 col6\" >0.0216917</td>\n",
       "                        <td id=\"T_7d26ddbc_9e32_11ea_a33b_bdbb23ce6af7row4_col7\" class=\"data row4 col7\" >-0.0133578</td>\n",
       "                        <td id=\"T_7d26ddbc_9e32_11ea_a33b_bdbb23ce6af7row4_col8\" class=\"data row4 col8\" >0.181201</td>\n",
       "                        <td id=\"T_7d26ddbc_9e32_11ea_a33b_bdbb23ce6af7row4_col9\" class=\"data row4 col9\" >-0.167068</td>\n",
       "                        <td id=\"T_7d26ddbc_9e32_11ea_a33b_bdbb23ce6af7row4_col10\" class=\"data row4 col10\" >0.198393</td>\n",
       "                        <td id=\"T_7d26ddbc_9e32_11ea_a33b_bdbb23ce6af7row4_col11\" class=\"data row4 col11\" >0.120506</td>\n",
       "                        <td id=\"T_7d26ddbc_9e32_11ea_a33b_bdbb23ce6af7row4_col12\" class=\"data row4 col12\" >-0.250137</td>\n",
       "                        <td id=\"T_7d26ddbc_9e32_11ea_a33b_bdbb23ce6af7row4_col13\" class=\"data row4 col13\" >-0.0670552</td>\n",
       "                        <td id=\"T_7d26ddbc_9e32_11ea_a33b_bdbb23ce6af7row4_col14\" class=\"data row4 col14\" >0.416704</td>\n",
       "            </tr>\n",
       "            <tr>\n",
       "                        <th id=\"T_7d26ddbc_9e32_11ea_a33b_bdbb23ce6af7level0_row5\" class=\"row_heading level0 row5\" >degree</th>\n",
       "                        <td id=\"T_7d26ddbc_9e32_11ea_a33b_bdbb23ce6af7row5_col0\" class=\"data row5 col0\" >0.0445522</td>\n",
       "                        <td id=\"T_7d26ddbc_9e32_11ea_a33b_bdbb23ce6af7row5_col1\" class=\"data row5 col1\" >-0.0493727</td>\n",
       "                        <td id=\"T_7d26ddbc_9e32_11ea_a33b_bdbb23ce6af7row5_col2\" class=\"data row5 col2\" >0.028421</td>\n",
       "                        <td id=\"T_7d26ddbc_9e32_11ea_a33b_bdbb23ce6af7row5_col3\" class=\"data row5 col3\" >0.00651583</td>\n",
       "                        <td id=\"T_7d26ddbc_9e32_11ea_a33b_bdbb23ce6af7row5_col4\" class=\"data row5 col4\" >0.036408</td>\n",
       "                        <td id=\"T_7d26ddbc_9e32_11ea_a33b_bdbb23ce6af7row5_col5\" class=\"data row5 col5\" >1</td>\n",
       "                        <td id=\"T_7d26ddbc_9e32_11ea_a33b_bdbb23ce6af7row5_col6\" class=\"data row5 col6\" >-0.214717</td>\n",
       "                        <td id=\"T_7d26ddbc_9e32_11ea_a33b_bdbb23ce6af7row5_col7\" class=\"data row5 col7\" >0.0436796</td>\n",
       "                        <td id=\"T_7d26ddbc_9e32_11ea_a33b_bdbb23ce6af7row5_col8\" class=\"data row5 col8\" >0.061611</td>\n",
       "                        <td id=\"T_7d26ddbc_9e32_11ea_a33b_bdbb23ce6af7row5_col9\" class=\"data row5 col9\" >0.0293106</td>\n",
       "                        <td id=\"T_7d26ddbc_9e32_11ea_a33b_bdbb23ce6af7row5_col10\" class=\"data row5 col10\" >0.0839559</td>\n",
       "                        <td id=\"T_7d26ddbc_9e32_11ea_a33b_bdbb23ce6af7row5_col11\" class=\"data row5 col11\" >0.0347503</td>\n",
       "                        <td id=\"T_7d26ddbc_9e32_11ea_a33b_bdbb23ce6af7row5_col12\" class=\"data row5 col12\" >-0.063661</td>\n",
       "                        <td id=\"T_7d26ddbc_9e32_11ea_a33b_bdbb23ce6af7row5_col13\" class=\"data row5 col13\" >-0.0536791</td>\n",
       "                        <td id=\"T_7d26ddbc_9e32_11ea_a33b_bdbb23ce6af7row5_col14\" class=\"data row5 col14\" >0.0520841</td>\n",
       "            </tr>\n",
       "            <tr>\n",
       "                        <th id=\"T_7d26ddbc_9e32_11ea_a33b_bdbb23ce6af7level0_row6\" class=\"row_heading level0 row6\" >otherqual</th>\n",
       "                        <td id=\"T_7d26ddbc_9e32_11ea_a33b_bdbb23ce6af7row6_col0\" class=\"data row6 col0\" >0.167129</td>\n",
       "                        <td id=\"T_7d26ddbc_9e32_11ea_a33b_bdbb23ce6af7row6_col1\" class=\"data row6 col1\" >0.264804</td>\n",
       "                        <td id=\"T_7d26ddbc_9e32_11ea_a33b_bdbb23ce6af7row6_col2\" class=\"data row6 col2\" >-0.04049</td>\n",
       "                        <td id=\"T_7d26ddbc_9e32_11ea_a33b_bdbb23ce6af7row6_col3\" class=\"data row6 col3\" >0.0070362</td>\n",
       "                        <td id=\"T_7d26ddbc_9e32_11ea_a33b_bdbb23ce6af7row6_col4\" class=\"data row6 col4\" >0.0216917</td>\n",
       "                        <td id=\"T_7d26ddbc_9e32_11ea_a33b_bdbb23ce6af7row6_col5\" class=\"data row6 col5\" >-0.214717</td>\n",
       "                        <td id=\"T_7d26ddbc_9e32_11ea_a33b_bdbb23ce6af7row6_col6\" class=\"data row6 col6\" >1</td>\n",
       "                        <td id=\"T_7d26ddbc_9e32_11ea_a33b_bdbb23ce6af7row6_col7\" class=\"data row6 col7\" >0.160311</td>\n",
       "                        <td id=\"T_7d26ddbc_9e32_11ea_a33b_bdbb23ce6af7row6_col8\" class=\"data row6 col8\" >0.0158332</td>\n",
       "                        <td id=\"T_7d26ddbc_9e32_11ea_a33b_bdbb23ce6af7row6_col9\" class=\"data row6 col9\" >-0.0176389</td>\n",
       "                        <td id=\"T_7d26ddbc_9e32_11ea_a33b_bdbb23ce6af7row6_col10\" class=\"data row6 col10\" >0.0297915</td>\n",
       "                        <td id=\"T_7d26ddbc_9e32_11ea_a33b_bdbb23ce6af7row6_col11\" class=\"data row6 col11\" >0.0954179</td>\n",
       "                        <td id=\"T_7d26ddbc_9e32_11ea_a33b_bdbb23ce6af7row6_col12\" class=\"data row6 col12\" >-0.0795858</td>\n",
       "                        <td id=\"T_7d26ddbc_9e32_11ea_a33b_bdbb23ce6af7row6_col13\" class=\"data row6 col13\" >-0.0444913</td>\n",
       "                        <td id=\"T_7d26ddbc_9e32_11ea_a33b_bdbb23ce6af7row6_col14\" class=\"data row6 col14\" >0.159607</td>\n",
       "            </tr>\n",
       "            <tr>\n",
       "                        <th id=\"T_7d26ddbc_9e32_11ea_a33b_bdbb23ce6af7level0_row7\" class=\"row_heading level0 row7\" >position</th>\n",
       "                        <td id=\"T_7d26ddbc_9e32_11ea_a33b_bdbb23ce6af7row7_col0\" class=\"data row7 col0\" >0.701354</td>\n",
       "                        <td id=\"T_7d26ddbc_9e32_11ea_a33b_bdbb23ce6af7row7_col1\" class=\"data row7 col1\" >0.116596</td>\n",
       "                        <td id=\"T_7d26ddbc_9e32_11ea_a33b_bdbb23ce6af7row7_col2\" class=\"data row7 col2\" >0.746736</td>\n",
       "                        <td id=\"T_7d26ddbc_9e32_11ea_a33b_bdbb23ce6af7row7_col3\" class=\"data row7 col3\" >0.48521</td>\n",
       "                        <td id=\"T_7d26ddbc_9e32_11ea_a33b_bdbb23ce6af7row7_col4\" class=\"data row7 col4\" >-0.0133578</td>\n",
       "                        <td id=\"T_7d26ddbc_9e32_11ea_a33b_bdbb23ce6af7row7_col5\" class=\"data row7 col5\" >0.0436796</td>\n",
       "                        <td id=\"T_7d26ddbc_9e32_11ea_a33b_bdbb23ce6af7row7_col6\" class=\"data row7 col6\" >0.160311</td>\n",
       "                        <td id=\"T_7d26ddbc_9e32_11ea_a33b_bdbb23ce6af7row7_col7\" class=\"data row7 col7\" >1</td>\n",
       "                        <td id=\"T_7d26ddbc_9e32_11ea_a33b_bdbb23ce6af7row7_col8\" class=\"data row7 col8\" >0.318129</td>\n",
       "                        <td id=\"T_7d26ddbc_9e32_11ea_a33b_bdbb23ce6af7row7_col9\" class=\"data row7 col9\" >0.0297514</td>\n",
       "                        <td id=\"T_7d26ddbc_9e32_11ea_a33b_bdbb23ce6af7row7_col10\" class=\"data row7 col10\" >0.261283</td>\n",
       "                        <td id=\"T_7d26ddbc_9e32_11ea_a33b_bdbb23ce6af7row7_col11\" class=\"data row7 col11\" >0.139835</td>\n",
       "                        <td id=\"T_7d26ddbc_9e32_11ea_a33b_bdbb23ce6af7row7_col12\" class=\"data row7 col12\" >-0.307315</td>\n",
       "                        <td id=\"T_7d26ddbc_9e32_11ea_a33b_bdbb23ce6af7row7_col13\" class=\"data row7 col13\" >-0.0914754</td>\n",
       "                        <td id=\"T_7d26ddbc_9e32_11ea_a33b_bdbb23ce6af7row7_col14\" class=\"data row7 col14\" >0.724541</td>\n",
       "            </tr>\n",
       "            <tr>\n",
       "                        <th id=\"T_7d26ddbc_9e32_11ea_a33b_bdbb23ce6af7level0_row8\" class=\"row_heading level0 row8\" >male</th>\n",
       "                        <td id=\"T_7d26ddbc_9e32_11ea_a33b_bdbb23ce6af7row8_col0\" class=\"data row8 col0\" >0.361447</td>\n",
       "                        <td id=\"T_7d26ddbc_9e32_11ea_a33b_bdbb23ce6af7row8_col1\" class=\"data row8 col1\" >0.0465577</td>\n",
       "                        <td id=\"T_7d26ddbc_9e32_11ea_a33b_bdbb23ce6af7row8_col2\" class=\"data row8 col2\" >0.278963</td>\n",
       "                        <td id=\"T_7d26ddbc_9e32_11ea_a33b_bdbb23ce6af7row8_col3\" class=\"data row8 col3\" >0.237787</td>\n",
       "                        <td id=\"T_7d26ddbc_9e32_11ea_a33b_bdbb23ce6af7row8_col4\" class=\"data row8 col4\" >0.181201</td>\n",
       "                        <td id=\"T_7d26ddbc_9e32_11ea_a33b_bdbb23ce6af7row8_col5\" class=\"data row8 col5\" >0.061611</td>\n",
       "                        <td id=\"T_7d26ddbc_9e32_11ea_a33b_bdbb23ce6af7row8_col6\" class=\"data row8 col6\" >0.0158332</td>\n",
       "                        <td id=\"T_7d26ddbc_9e32_11ea_a33b_bdbb23ce6af7row8_col7\" class=\"data row8 col7\" >0.318129</td>\n",
       "                        <td id=\"T_7d26ddbc_9e32_11ea_a33b_bdbb23ce6af7row8_col8\" class=\"data row8 col8\" >1</td>\n",
       "                        <td id=\"T_7d26ddbc_9e32_11ea_a33b_bdbb23ce6af7row8_col9\" class=\"data row8 col9\" >-0.622179</td>\n",
       "                        <td id=\"T_7d26ddbc_9e32_11ea_a33b_bdbb23ce6af7row8_col10\" class=\"data row8 col10\" >0.150364</td>\n",
       "                        <td id=\"T_7d26ddbc_9e32_11ea_a33b_bdbb23ce6af7row8_col11\" class=\"data row8 col11\" >0.024864</td>\n",
       "                        <td id=\"T_7d26ddbc_9e32_11ea_a33b_bdbb23ce6af7row8_col12\" class=\"data row8 col12\" >-0.163386</td>\n",
       "                        <td id=\"T_7d26ddbc_9e32_11ea_a33b_bdbb23ce6af7row8_col13\" class=\"data row8 col13\" >-0.0115481</td>\n",
       "                        <td id=\"T_7d26ddbc_9e32_11ea_a33b_bdbb23ce6af7row8_col14\" class=\"data row8 col14\" >0.369857</td>\n",
       "            </tr>\n",
       "            <tr>\n",
       "                        <th id=\"T_7d26ddbc_9e32_11ea_a33b_bdbb23ce6af7level0_row9\" class=\"row_heading level0 row9\" >yearsabs</th>\n",
       "                        <td id=\"T_7d26ddbc_9e32_11ea_a33b_bdbb23ce6af7row9_col0\" class=\"data row9 col0\" >-0.0696218</td>\n",
       "                        <td id=\"T_7d26ddbc_9e32_11ea_a33b_bdbb23ce6af7row9_col1\" class=\"data row9 col1\" >0.13238</td>\n",
       "                        <td id=\"T_7d26ddbc_9e32_11ea_a33b_bdbb23ce6af7row9_col2\" class=\"data row9 col2\" >0.0554682</td>\n",
       "                        <td id=\"T_7d26ddbc_9e32_11ea_a33b_bdbb23ce6af7row9_col3\" class=\"data row9 col3\" >0.0356316</td>\n",
       "                        <td id=\"T_7d26ddbc_9e32_11ea_a33b_bdbb23ce6af7row9_col4\" class=\"data row9 col4\" >-0.167068</td>\n",
       "                        <td id=\"T_7d26ddbc_9e32_11ea_a33b_bdbb23ce6af7row9_col5\" class=\"data row9 col5\" >0.0293106</td>\n",
       "                        <td id=\"T_7d26ddbc_9e32_11ea_a33b_bdbb23ce6af7row9_col6\" class=\"data row9 col6\" >-0.0176389</td>\n",
       "                        <td id=\"T_7d26ddbc_9e32_11ea_a33b_bdbb23ce6af7row9_col7\" class=\"data row9 col7\" >0.0297514</td>\n",
       "                        <td id=\"T_7d26ddbc_9e32_11ea_a33b_bdbb23ce6af7row9_col8\" class=\"data row9 col8\" >-0.622179</td>\n",
       "                        <td id=\"T_7d26ddbc_9e32_11ea_a33b_bdbb23ce6af7row9_col9\" class=\"data row9 col9\" >1</td>\n",
       "                        <td id=\"T_7d26ddbc_9e32_11ea_a33b_bdbb23ce6af7row9_col10\" class=\"data row9 col10\" >-0.0235553</td>\n",
       "                        <td id=\"T_7d26ddbc_9e32_11ea_a33b_bdbb23ce6af7row9_col11\" class=\"data row9 col11\" >0.0295687</td>\n",
       "                        <td id=\"T_7d26ddbc_9e32_11ea_a33b_bdbb23ce6af7row9_col12\" class=\"data row9 col12\" >0.0118607</td>\n",
       "                        <td id=\"T_7d26ddbc_9e32_11ea_a33b_bdbb23ce6af7row9_col13\" class=\"data row9 col13\" >-0.0174304</td>\n",
       "                        <td id=\"T_7d26ddbc_9e32_11ea_a33b_bdbb23ce6af7row9_col14\" class=\"data row9 col14\" >-0.0490968</td>\n",
       "            </tr>\n",
       "            <tr>\n",
       "                        <th id=\"T_7d26ddbc_9e32_11ea_a33b_bdbb23ce6af7level0_row10\" class=\"row_heading level0 row10\" >engineering</th>\n",
       "                        <td id=\"T_7d26ddbc_9e32_11ea_a33b_bdbb23ce6af7row10_col0\" class=\"data row10 col0\" >0.425924</td>\n",
       "                        <td id=\"T_7d26ddbc_9e32_11ea_a33b_bdbb23ce6af7row10_col1\" class=\"data row10 col1\" >0.0541538</td>\n",
       "                        <td id=\"T_7d26ddbc_9e32_11ea_a33b_bdbb23ce6af7row10_col2\" class=\"data row10 col2\" >0.216959</td>\n",
       "                        <td id=\"T_7d26ddbc_9e32_11ea_a33b_bdbb23ce6af7row10_col3\" class=\"data row10 col3\" >0.197874</td>\n",
       "                        <td id=\"T_7d26ddbc_9e32_11ea_a33b_bdbb23ce6af7row10_col4\" class=\"data row10 col4\" >0.198393</td>\n",
       "                        <td id=\"T_7d26ddbc_9e32_11ea_a33b_bdbb23ce6af7row10_col5\" class=\"data row10 col5\" >0.0839559</td>\n",
       "                        <td id=\"T_7d26ddbc_9e32_11ea_a33b_bdbb23ce6af7row10_col6\" class=\"data row10 col6\" >0.0297915</td>\n",
       "                        <td id=\"T_7d26ddbc_9e32_11ea_a33b_bdbb23ce6af7row10_col7\" class=\"data row10 col7\" >0.261283</td>\n",
       "                        <td id=\"T_7d26ddbc_9e32_11ea_a33b_bdbb23ce6af7row10_col8\" class=\"data row10 col8\" >0.150364</td>\n",
       "                        <td id=\"T_7d26ddbc_9e32_11ea_a33b_bdbb23ce6af7row10_col9\" class=\"data row10 col9\" >-0.0235553</td>\n",
       "                        <td id=\"T_7d26ddbc_9e32_11ea_a33b_bdbb23ce6af7row10_col10\" class=\"data row10 col10\" >1</td>\n",
       "                        <td id=\"T_7d26ddbc_9e32_11ea_a33b_bdbb23ce6af7row10_col11\" class=\"data row10 col11\" >-0.324742</td>\n",
       "                        <td id=\"T_7d26ddbc_9e32_11ea_a33b_bdbb23ce6af7row10_col12\" class=\"data row10 col12\" >-0.324742</td>\n",
       "                        <td id=\"T_7d26ddbc_9e32_11ea_a33b_bdbb23ce6af7row10_col13\" class=\"data row10 col13\" >-0.341816</td>\n",
       "                        <td id=\"T_7d26ddbc_9e32_11ea_a33b_bdbb23ce6af7row10_col14\" class=\"data row10 col14\" >0.422128</td>\n",
       "            </tr>\n",
       "            <tr>\n",
       "                        <th id=\"T_7d26ddbc_9e32_11ea_a33b_bdbb23ce6af7level0_row11\" class=\"row_heading level0 row11\" >finance</th>\n",
       "                        <td id=\"T_7d26ddbc_9e32_11ea_a33b_bdbb23ce6af7row11_col0\" class=\"data row11 col0\" >0.231553</td>\n",
       "                        <td id=\"T_7d26ddbc_9e32_11ea_a33b_bdbb23ce6af7row11_col1\" class=\"data row11 col1\" >0.00218748</td>\n",
       "                        <td id=\"T_7d26ddbc_9e32_11ea_a33b_bdbb23ce6af7row11_col2\" class=\"data row11 col2\" >0.150811</td>\n",
       "                        <td id=\"T_7d26ddbc_9e32_11ea_a33b_bdbb23ce6af7row11_col3\" class=\"data row11 col3\" >0.169645</td>\n",
       "                        <td id=\"T_7d26ddbc_9e32_11ea_a33b_bdbb23ce6af7row11_col4\" class=\"data row11 col4\" >0.120506</td>\n",
       "                        <td id=\"T_7d26ddbc_9e32_11ea_a33b_bdbb23ce6af7row11_col5\" class=\"data row11 col5\" >0.0347503</td>\n",
       "                        <td id=\"T_7d26ddbc_9e32_11ea_a33b_bdbb23ce6af7row11_col6\" class=\"data row11 col6\" >0.0954179</td>\n",
       "                        <td id=\"T_7d26ddbc_9e32_11ea_a33b_bdbb23ce6af7row11_col7\" class=\"data row11 col7\" >0.139835</td>\n",
       "                        <td id=\"T_7d26ddbc_9e32_11ea_a33b_bdbb23ce6af7row11_col8\" class=\"data row11 col8\" >0.024864</td>\n",
       "                        <td id=\"T_7d26ddbc_9e32_11ea_a33b_bdbb23ce6af7row11_col9\" class=\"data row11 col9\" >0.0295687</td>\n",
       "                        <td id=\"T_7d26ddbc_9e32_11ea_a33b_bdbb23ce6af7row11_col10\" class=\"data row11 col10\" >-0.324742</td>\n",
       "                        <td id=\"T_7d26ddbc_9e32_11ea_a33b_bdbb23ce6af7row11_col11\" class=\"data row11 col11\" >1</td>\n",
       "                        <td id=\"T_7d26ddbc_9e32_11ea_a33b_bdbb23ce6af7row11_col12\" class=\"data row11 col12\" >-0.324742</td>\n",
       "                        <td id=\"T_7d26ddbc_9e32_11ea_a33b_bdbb23ce6af7row11_col13\" class=\"data row11 col13\" >-0.341816</td>\n",
       "                        <td id=\"T_7d26ddbc_9e32_11ea_a33b_bdbb23ce6af7row11_col14\" class=\"data row11 col14\" >0.238713</td>\n",
       "            </tr>\n",
       "            <tr>\n",
       "                        <th id=\"T_7d26ddbc_9e32_11ea_a33b_bdbb23ce6af7level0_row12\" class=\"row_heading level0 row12\" >HR</th>\n",
       "                        <td id=\"T_7d26ddbc_9e32_11ea_a33b_bdbb23ce6af7row12_col0\" class=\"data row12 col0\" >-0.435677</td>\n",
       "                        <td id=\"T_7d26ddbc_9e32_11ea_a33b_bdbb23ce6af7row12_col1\" class=\"data row12 col1\" >-0.0403305</td>\n",
       "                        <td id=\"T_7d26ddbc_9e32_11ea_a33b_bdbb23ce6af7row12_col2\" class=\"data row12 col2\" >-0.268122</td>\n",
       "                        <td id=\"T_7d26ddbc_9e32_11ea_a33b_bdbb23ce6af7row12_col3\" class=\"data row12 col3\" >-0.241797</td>\n",
       "                        <td id=\"T_7d26ddbc_9e32_11ea_a33b_bdbb23ce6af7row12_col4\" class=\"data row12 col4\" >-0.250137</td>\n",
       "                        <td id=\"T_7d26ddbc_9e32_11ea_a33b_bdbb23ce6af7row12_col5\" class=\"data row12 col5\" >-0.063661</td>\n",
       "                        <td id=\"T_7d26ddbc_9e32_11ea_a33b_bdbb23ce6af7row12_col6\" class=\"data row12 col6\" >-0.0795858</td>\n",
       "                        <td id=\"T_7d26ddbc_9e32_11ea_a33b_bdbb23ce6af7row12_col7\" class=\"data row12 col7\" >-0.307315</td>\n",
       "                        <td id=\"T_7d26ddbc_9e32_11ea_a33b_bdbb23ce6af7row12_col8\" class=\"data row12 col8\" >-0.163386</td>\n",
       "                        <td id=\"T_7d26ddbc_9e32_11ea_a33b_bdbb23ce6af7row12_col9\" class=\"data row12 col9\" >0.0118607</td>\n",
       "                        <td id=\"T_7d26ddbc_9e32_11ea_a33b_bdbb23ce6af7row12_col10\" class=\"data row12 col10\" >-0.324742</td>\n",
       "                        <td id=\"T_7d26ddbc_9e32_11ea_a33b_bdbb23ce6af7row12_col11\" class=\"data row12 col11\" >-0.324742</td>\n",
       "                        <td id=\"T_7d26ddbc_9e32_11ea_a33b_bdbb23ce6af7row12_col12\" class=\"data row12 col12\" >1</td>\n",
       "                        <td id=\"T_7d26ddbc_9e32_11ea_a33b_bdbb23ce6af7row12_col13\" class=\"data row12 col13\" >-0.341816</td>\n",
       "                        <td id=\"T_7d26ddbc_9e32_11ea_a33b_bdbb23ce6af7row12_col14\" class=\"data row12 col14\" >-0.458576</td>\n",
       "            </tr>\n",
       "            <tr>\n",
       "                        <th id=\"T_7d26ddbc_9e32_11ea_a33b_bdbb23ce6af7level0_row13\" class=\"row_heading level0 row13\" >marketing</th>\n",
       "                        <td id=\"T_7d26ddbc_9e32_11ea_a33b_bdbb23ce6af7row13_col0\" class=\"data row13 col0\" >-0.216296</td>\n",
       "                        <td id=\"T_7d26ddbc_9e32_11ea_a33b_bdbb23ce6af7row13_col1\" class=\"data row13 col1\" >-0.0156135</td>\n",
       "                        <td id=\"T_7d26ddbc_9e32_11ea_a33b_bdbb23ce6af7row13_col2\" class=\"data row13 col2\" >-0.0971752</td>\n",
       "                        <td id=\"T_7d26ddbc_9e32_11ea_a33b_bdbb23ce6af7row13_col3\" class=\"data row13 col3\" >-0.122602</td>\n",
       "                        <td id=\"T_7d26ddbc_9e32_11ea_a33b_bdbb23ce6af7row13_col4\" class=\"data row13 col4\" >-0.0670552</td>\n",
       "                        <td id=\"T_7d26ddbc_9e32_11ea_a33b_bdbb23ce6af7row13_col5\" class=\"data row13 col5\" >-0.0536791</td>\n",
       "                        <td id=\"T_7d26ddbc_9e32_11ea_a33b_bdbb23ce6af7row13_col6\" class=\"data row13 col6\" >-0.0444913</td>\n",
       "                        <td id=\"T_7d26ddbc_9e32_11ea_a33b_bdbb23ce6af7row13_col7\" class=\"data row13 col7\" >-0.0914754</td>\n",
       "                        <td id=\"T_7d26ddbc_9e32_11ea_a33b_bdbb23ce6af7row13_col8\" class=\"data row13 col8\" >-0.0115481</td>\n",
       "                        <td id=\"T_7d26ddbc_9e32_11ea_a33b_bdbb23ce6af7row13_col9\" class=\"data row13 col9\" >-0.0174304</td>\n",
       "                        <td id=\"T_7d26ddbc_9e32_11ea_a33b_bdbb23ce6af7row13_col10\" class=\"data row13 col10\" >-0.341816</td>\n",
       "                        <td id=\"T_7d26ddbc_9e32_11ea_a33b_bdbb23ce6af7row13_col11\" class=\"data row13 col11\" >-0.341816</td>\n",
       "                        <td id=\"T_7d26ddbc_9e32_11ea_a33b_bdbb23ce6af7row13_col12\" class=\"data row13 col12\" >-0.341816</td>\n",
       "                        <td id=\"T_7d26ddbc_9e32_11ea_a33b_bdbb23ce6af7row13_col13\" class=\"data row13 col13\" >1</td>\n",
       "                        <td id=\"T_7d26ddbc_9e32_11ea_a33b_bdbb23ce6af7row13_col14\" class=\"data row13 col14\" >-0.197246</td>\n",
       "            </tr>\n",
       "            <tr>\n",
       "                        <th id=\"T_7d26ddbc_9e32_11ea_a33b_bdbb23ce6af7level0_row14\" class=\"row_heading level0 row14\" >log_salary</th>\n",
       "                        <td id=\"T_7d26ddbc_9e32_11ea_a33b_bdbb23ce6af7row14_col0\" class=\"data row14 col0\" >0.990429</td>\n",
       "                        <td id=\"T_7d26ddbc_9e32_11ea_a33b_bdbb23ce6af7row14_col1\" class=\"data row14 col1\" >0.106405</td>\n",
       "                        <td id=\"T_7d26ddbc_9e32_11ea_a33b_bdbb23ce6af7row14_col2\" class=\"data row14 col2\" >0.642096</td>\n",
       "                        <td id=\"T_7d26ddbc_9e32_11ea_a33b_bdbb23ce6af7row14_col3\" class=\"data row14 col3\" >0.59932</td>\n",
       "                        <td id=\"T_7d26ddbc_9e32_11ea_a33b_bdbb23ce6af7row14_col4\" class=\"data row14 col4\" >0.416704</td>\n",
       "                        <td id=\"T_7d26ddbc_9e32_11ea_a33b_bdbb23ce6af7row14_col5\" class=\"data row14 col5\" >0.0520841</td>\n",
       "                        <td id=\"T_7d26ddbc_9e32_11ea_a33b_bdbb23ce6af7row14_col6\" class=\"data row14 col6\" >0.159607</td>\n",
       "                        <td id=\"T_7d26ddbc_9e32_11ea_a33b_bdbb23ce6af7row14_col7\" class=\"data row14 col7\" >0.724541</td>\n",
       "                        <td id=\"T_7d26ddbc_9e32_11ea_a33b_bdbb23ce6af7row14_col8\" class=\"data row14 col8\" >0.369857</td>\n",
       "                        <td id=\"T_7d26ddbc_9e32_11ea_a33b_bdbb23ce6af7row14_col9\" class=\"data row14 col9\" >-0.0490968</td>\n",
       "                        <td id=\"T_7d26ddbc_9e32_11ea_a33b_bdbb23ce6af7row14_col10\" class=\"data row14 col10\" >0.422128</td>\n",
       "                        <td id=\"T_7d26ddbc_9e32_11ea_a33b_bdbb23ce6af7row14_col11\" class=\"data row14 col11\" >0.238713</td>\n",
       "                        <td id=\"T_7d26ddbc_9e32_11ea_a33b_bdbb23ce6af7row14_col12\" class=\"data row14 col12\" >-0.458576</td>\n",
       "                        <td id=\"T_7d26ddbc_9e32_11ea_a33b_bdbb23ce6af7row14_col13\" class=\"data row14 col13\" >-0.197246</td>\n",
       "                        <td id=\"T_7d26ddbc_9e32_11ea_a33b_bdbb23ce6af7row14_col14\" class=\"data row14 col14\" >1</td>\n",
       "            </tr>\n",
       "    </tbody></table>"
      ],
      "text/plain": [
       "<pandas.io.formats.style.Styler at 0x7fdc80623590>"
      ]
     },
     "execution_count": 39,
     "metadata": {},
     "output_type": "execute_result"
    }
   ],
   "source": [
    "sal_corr = sal2.corr()\n",
    "sal_corr.style.background_gradient(cmap = 'coolwarm')"
   ]
  },
  {
   "cell_type": "markdown",
   "metadata": {},
   "source": [
    "__Everything has a correlation but it is the strength of the correlation that we are interested in.__\n",
    "* Based on the above table these features are good predictors for salary; yearsworked, yearsrank, position and Field\n",
    "\n",
    "* As per assignment instructions ALL features will be used for Model 1.\n"
   ]
  },
  {
   "cell_type": "markdown",
   "metadata": {},
   "source": [
    "<a id='select'></a> <div class=\"alert alert-block alert-info\">\n",
    "    \n",
    "      N/A FOR THIS ASSIGNMENT!  \n",
    "\n",
    "# ~~Feature Selection~~\n",
    "\n",
    " </div>"
   ]
  },
  {
   "cell_type": "markdown",
   "metadata": {},
   "source": [
    " <a id='train'></a> <div class=\"alert alert-block alert-info\">\n",
    "\n",
    "### Model Training\n",
    " </div>"
   ]
  },
  {
   "cell_type": "markdown",
   "metadata": {},
   "source": [
    "__Dataset is split into a train & test set. \n",
    "70% of the data will go into the training set and the remaining 30% will be used for testing.__"
   ]
  },
  {
   "cell_type": "code",
   "execution_count": 40,
   "metadata": {},
   "outputs": [],
   "source": [
    "from statsmodels.formula.api import ols"
   ]
  },
  {
   "cell_type": "code",
   "execution_count": 41,
   "metadata": {},
   "outputs": [],
   "source": [
    "#split data\n",
    "x = sal2.drop(['salary','log_salary'] , axis=1)\n",
    "y = sal2[\"log_salary\"]\n",
    "\n",
    "x = sm.add_constant(x)\n",
    "\n",
    "X_train,X_test,Y_train,Y_test = train_test_split(x,y,test_size=0.3, random_state=50)"
   ]
  },
  {
   "cell_type": "code",
   "execution_count": 42,
   "metadata": {},
   "outputs": [],
   "source": [
    "model1 = sm.OLS(Y_train, X_train).fit()"
   ]
  },
  {
   "cell_type": "code",
   "execution_count": 43,
   "metadata": {},
   "outputs": [
    {
     "data": {
      "text/html": [
       "<table class=\"simpletable\">\n",
       "<caption>OLS Regression Results</caption>\n",
       "<tr>\n",
       "  <th>Dep. Variable:</th>       <td>log_salary</td>    <th>  R-squared:         </th> <td>   0.844</td> \n",
       "</tr>\n",
       "<tr>\n",
       "  <th>Model:</th>                   <td>OLS</td>       <th>  Adj. R-squared:    </th> <td>   0.838</td> \n",
       "</tr>\n",
       "<tr>\n",
       "  <th>Method:</th>             <td>Least Squares</td>  <th>  F-statistic:       </th> <td>   155.5</td> \n",
       "</tr>\n",
       "<tr>\n",
       "  <th>Date:</th>             <td>Mon, 25 May 2020</td> <th>  Prob (F-statistic):</th> <td>2.52e-131</td>\n",
       "</tr>\n",
       "<tr>\n",
       "  <th>Time:</th>                 <td>04:50:29</td>     <th>  Log-Likelihood:    </th> <td>  325.18</td> \n",
       "</tr>\n",
       "<tr>\n",
       "  <th>No. Observations:</th>      <td>   359</td>      <th>  AIC:               </th> <td>  -624.4</td> \n",
       "</tr>\n",
       "<tr>\n",
       "  <th>Df Residuals:</th>          <td>   346</td>      <th>  BIC:               </th> <td>  -573.9</td> \n",
       "</tr>\n",
       "<tr>\n",
       "  <th>Df Model:</th>              <td>    12</td>      <th>                     </th>     <td> </td>    \n",
       "</tr>\n",
       "<tr>\n",
       "  <th>Covariance Type:</th>      <td>nonrobust</td>    <th>                     </th>     <td> </td>    \n",
       "</tr>\n",
       "</table>\n",
       "<table class=\"simpletable\">\n",
       "<tr>\n",
       "       <td></td>          <th>coef</th>     <th>std err</th>      <th>t</th>      <th>P>|t|</th>  <th>[0.025</th>    <th>0.975]</th>  \n",
       "</tr>\n",
       "<tr>\n",
       "  <th>const</th>       <td>    7.8185</td> <td>    0.041</td> <td>  191.941</td> <td> 0.000</td> <td>    7.738</td> <td>    7.899</td>\n",
       "</tr>\n",
       "<tr>\n",
       "  <th>exprior</th>     <td>    0.0028</td> <td>    0.002</td> <td>    1.861</td> <td> 0.064</td> <td>   -0.000</td> <td>    0.006</td>\n",
       "</tr>\n",
       "<tr>\n",
       "  <th>yearsworked</th> <td>   -0.0019</td> <td>    0.002</td> <td>   -1.033</td> <td> 0.302</td> <td>   -0.006</td> <td>    0.002</td>\n",
       "</tr>\n",
       "<tr>\n",
       "  <th>yearsrank</th>   <td>    0.0144</td> <td>    0.002</td> <td>    8.322</td> <td> 0.000</td> <td>    0.011</td> <td>    0.018</td>\n",
       "</tr>\n",
       "<tr>\n",
       "  <th>market</th>      <td>    0.6181</td> <td>    0.040</td> <td>   15.616</td> <td> 0.000</td> <td>    0.540</td> <td>    0.696</td>\n",
       "</tr>\n",
       "<tr>\n",
       "  <th>degree</th>      <td>    0.0089</td> <td>    0.030</td> <td>    0.301</td> <td> 0.764</td> <td>   -0.049</td> <td>    0.067</td>\n",
       "</tr>\n",
       "<tr>\n",
       "  <th>otherqual</th>   <td>    0.0484</td> <td>    0.029</td> <td>    1.695</td> <td> 0.091</td> <td>   -0.008</td> <td>    0.105</td>\n",
       "</tr>\n",
       "<tr>\n",
       "  <th>position</th>    <td>    0.1569</td> <td>    0.013</td> <td>   11.748</td> <td> 0.000</td> <td>    0.131</td> <td>    0.183</td>\n",
       "</tr>\n",
       "<tr>\n",
       "  <th>male</th>        <td>    0.0209</td> <td>    0.018</td> <td>    1.155</td> <td> 0.249</td> <td>   -0.015</td> <td>    0.056</td>\n",
       "</tr>\n",
       "<tr>\n",
       "  <th>yearsabs</th>    <td>    0.0002</td> <td>    0.000</td> <td>    0.375</td> <td> 0.708</td> <td>   -0.001</td> <td>    0.001</td>\n",
       "</tr>\n",
       "<tr>\n",
       "  <th>engineering</th> <td>    2.0158</td> <td>    0.016</td> <td>  124.675</td> <td> 0.000</td> <td>    1.984</td> <td>    2.048</td>\n",
       "</tr>\n",
       "<tr>\n",
       "  <th>finance</th>     <td>    1.9815</td> <td>    0.015</td> <td>  130.940</td> <td> 0.000</td> <td>    1.952</td> <td>    2.011</td>\n",
       "</tr>\n",
       "<tr>\n",
       "  <th>HR</th>          <td>    1.9020</td> <td>    0.012</td> <td>  163.590</td> <td> 0.000</td> <td>    1.879</td> <td>    1.925</td>\n",
       "</tr>\n",
       "<tr>\n",
       "  <th>marketing</th>   <td>    1.9193</td> <td>    0.013</td> <td>  149.386</td> <td> 0.000</td> <td>    1.894</td> <td>    1.945</td>\n",
       "</tr>\n",
       "</table>\n",
       "<table class=\"simpletable\">\n",
       "<tr>\n",
       "  <th>Omnibus:</th>       <td> 5.632</td> <th>  Durbin-Watson:     </th> <td>   1.974</td>\n",
       "</tr>\n",
       "<tr>\n",
       "  <th>Prob(Omnibus):</th> <td> 0.060</td> <th>  Jarque-Bera (JB):  </th> <td>   5.588</td>\n",
       "</tr>\n",
       "<tr>\n",
       "  <th>Skew:</th>          <td> 0.305</td> <th>  Prob(JB):          </th> <td>  0.0612</td>\n",
       "</tr>\n",
       "<tr>\n",
       "  <th>Kurtosis:</th>      <td> 3.016</td> <th>  Cond. No.          </th> <td>1.36e+17</td>\n",
       "</tr>\n",
       "</table><br/><br/>Warnings:<br/>[1] Standard Errors assume that the covariance matrix of the errors is correctly specified.<br/>[2] The smallest eigenvalue is 9.39e-30. This might indicate that there are<br/>strong multicollinearity problems or that the design matrix is singular."
      ],
      "text/plain": [
       "<class 'statsmodels.iolib.summary.Summary'>\n",
       "\"\"\"\n",
       "                            OLS Regression Results                            \n",
       "==============================================================================\n",
       "Dep. Variable:             log_salary   R-squared:                       0.844\n",
       "Model:                            OLS   Adj. R-squared:                  0.838\n",
       "Method:                 Least Squares   F-statistic:                     155.5\n",
       "Date:                Mon, 25 May 2020   Prob (F-statistic):          2.52e-131\n",
       "Time:                        04:50:29   Log-Likelihood:                 325.18\n",
       "No. Observations:                 359   AIC:                            -624.4\n",
       "Df Residuals:                     346   BIC:                            -573.9\n",
       "Df Model:                          12                                         \n",
       "Covariance Type:            nonrobust                                         \n",
       "===============================================================================\n",
       "                  coef    std err          t      P>|t|      [0.025      0.975]\n",
       "-------------------------------------------------------------------------------\n",
       "const           7.8185      0.041    191.941      0.000       7.738       7.899\n",
       "exprior         0.0028      0.002      1.861      0.064      -0.000       0.006\n",
       "yearsworked    -0.0019      0.002     -1.033      0.302      -0.006       0.002\n",
       "yearsrank       0.0144      0.002      8.322      0.000       0.011       0.018\n",
       "market          0.6181      0.040     15.616      0.000       0.540       0.696\n",
       "degree          0.0089      0.030      0.301      0.764      -0.049       0.067\n",
       "otherqual       0.0484      0.029      1.695      0.091      -0.008       0.105\n",
       "position        0.1569      0.013     11.748      0.000       0.131       0.183\n",
       "male            0.0209      0.018      1.155      0.249      -0.015       0.056\n",
       "yearsabs        0.0002      0.000      0.375      0.708      -0.001       0.001\n",
       "engineering     2.0158      0.016    124.675      0.000       1.984       2.048\n",
       "finance         1.9815      0.015    130.940      0.000       1.952       2.011\n",
       "HR              1.9020      0.012    163.590      0.000       1.879       1.925\n",
       "marketing       1.9193      0.013    149.386      0.000       1.894       1.945\n",
       "==============================================================================\n",
       "Omnibus:                        5.632   Durbin-Watson:                   1.974\n",
       "Prob(Omnibus):                  0.060   Jarque-Bera (JB):                5.588\n",
       "Skew:                           0.305   Prob(JB):                       0.0612\n",
       "Kurtosis:                       3.016   Cond. No.                     1.36e+17\n",
       "==============================================================================\n",
       "\n",
       "Warnings:\n",
       "[1] Standard Errors assume that the covariance matrix of the errors is correctly specified.\n",
       "[2] The smallest eigenvalue is 9.39e-30. This might indicate that there are\n",
       "strong multicollinearity problems or that the design matrix is singular.\n",
       "\"\"\""
      ]
     },
     "execution_count": 43,
     "metadata": {},
     "output_type": "execute_result"
    }
   ],
   "source": [
    "model1.summary()"
   ]
  },
  {
   "cell_type": "markdown",
   "metadata": {},
   "source": [
    "R-squared value reveals the quality of the regression model. It describes the relationships between dependent and independent variables in a model. The R-squared value for this model was 0.66. Now, having used more features & did log transformation, it is now 0.84.\n",
    "This means the accuracy of the model is approx 84%."
   ]
  },
  {
   "cell_type": "markdown",
   "metadata": {},
   "source": [
    "## OOP"
   ]
  },
  {
   "cell_type": "markdown",
   "metadata": {},
   "source": [
    "<a id='oop'></a> <div class=\"alert alert-block alert-info\">\n",
    "\n",
    "### OOP for Data Science\n",
    " </div>"
   ]
  },
  {
   "cell_type": "markdown",
   "metadata": {},
   "source": [
    "### Assignment Outline\n",
    "\n",
    "It is efficient to put machine learning models and other data science techniques into classes so that we can reuse them later and change attributes without changing the code behind these models. Independent concepts can also be put into independent classes: for example, the functioning of a cross-validate class should not affect the functioning of a linear regression class."
   ]
  },
  {
   "cell_type": "markdown",
   "metadata": {},
   "source": [
    "> Create a class called __ErrorCalculator__ that has methods to compute __the residuals, standardised residuals, Mean Squared Error (MSE) and Root Mean Squared Error (RMSE).__ \n",
    "Name these methods __get_residuals__, __get_standardised_residuals__, __get_mse__ and __get_rmse__ respectively. \n",
    "You can also have a method, __error_summary__ that prints the average, minimum and maximum of the standardised residuals, as well as the MSE and RMSE.\n",
    "The class should have the following parameters:\n",
    "\n",
    "      y: A 1D array of the target variable, size n_observations\n",
    "      y_pred: A 1D array of the predicted values of the target variable, size n_observations"
   ]
  },
  {
   "cell_type": "code",
   "execution_count": 44,
   "metadata": {},
   "outputs": [],
   "source": [
    "from src.ErrorCalculator import ErrorCalculator"
   ]
  },
  {
   "cell_type": "markdown",
   "metadata": {},
   "source": [
    "> Create a generic class called __Plotter__. This class should have a method, run_calculations, to calculate the residuals if they have not yet been calculated, and a method plot, which simply plots a histogram of the residuals.\n",
    "As before, the class should have the following parameters:\n",
    "\n",
    "     y: A 1D array of the target variable, size n_observations\n",
    "     y_pred: A 1D array of the predicted values of the target variable, size n_observations"
   ]
  },
  {
   "cell_type": "markdown",
   "metadata": {},
   "source": [
    "> Create two child classes, __HistogramPlotter__ and __ScatterPlotter__, that both inherit from Plotter. As the name suggests, HistogramPlotter.plot() should return a histogram of the residuals, whereas ScatterPlotter.plot() should return scatterplots of the residual versus predicted values and the predicted versus observed values. "
   ]
  },
  {
   "cell_type": "code",
   "execution_count": 45,
   "metadata": {},
   "outputs": [],
   "source": [
    "from src.Plotter import Histogram_Plotter, Scatter_Plot, Distplot"
   ]
  },
  {
   "cell_type": "code",
   "execution_count": 46,
   "metadata": {},
   "outputs": [],
   "source": [
    "oop = pd.read_csv('data/salary.csv')"
   ]
  },
  {
   "cell_type": "code",
   "execution_count": 47,
   "metadata": {},
   "outputs": [],
   "source": [
    "#Method to fix missing value\n",
    "oop['salary'].fillna(oop['salary'].mean(),inplace = True)"
   ]
  },
  {
   "cell_type": "markdown",
   "metadata": {},
   "source": [
    "certain markdowns have been omitted because they would be repetitive from model 1"
   ]
  },
  {
   "cell_type": "code",
   "execution_count": 48,
   "metadata": {},
   "outputs": [],
   "source": [
    "oop['log_salary'] = np.log(oop.salary)"
   ]
  },
  {
   "cell_type": "code",
   "execution_count": 49,
   "metadata": {},
   "outputs": [],
   "source": [
    "dummies = pd.get_dummies(oop['Field'])\n",
    "\n",
    "dum = dummies.rename(columns={1:'engineering',2:'finance',3:'HR',4:'marketing'})\n",
    "\n",
    "oop2 = pd.concat([oop, dum] ,axis=1, ignore_index=False)\n",
    "oop2.drop(\"Field\", inplace=True, axis=1)\n"
   ]
  },
  {
   "cell_type": "markdown",
   "metadata": {},
   "source": [
    "> Use the model you built in the MLR project to predict log-transformed salary (log_salary). Also create a second multiple regression model which does not include yearsrank as a feature. Save these model instances as model1 and model2. "
   ]
  },
  {
   "cell_type": "markdown",
   "metadata": {},
   "source": [
    "### Train Test Split for Model 2 "
   ]
  },
  {
   "cell_type": "code",
   "execution_count": 50,
   "metadata": {},
   "outputs": [],
   "source": [
    "#split data\n",
    "x2 = oop.drop(['salary', 'log_salary', 'yearsrank'], axis=1)\n",
    "y2 = oop[\"log_salary\"]\n",
    "\n",
    "x2 = sm.add_constant(x2)\n",
    "\n",
    "X_train2,X_test2,Y_train2,Y_test2 = train_test_split(x2,y2,test_size=0.3, random_state=50)"
   ]
  },
  {
   "cell_type": "code",
   "execution_count": 51,
   "metadata": {},
   "outputs": [
    {
     "data": {
      "text/html": [
       "<table class=\"simpletable\">\n",
       "<caption>OLS Regression Results</caption>\n",
       "<tr>\n",
       "  <th>Dep. Variable:</th>       <td>log_salary</td>    <th>  R-squared:         </th> <td>   0.805</td> \n",
       "</tr>\n",
       "<tr>\n",
       "  <th>Model:</th>                   <td>OLS</td>       <th>  Adj. R-squared:    </th> <td>   0.800</td> \n",
       "</tr>\n",
       "<tr>\n",
       "  <th>Method:</th>             <td>Least Squares</td>  <th>  F-statistic:       </th> <td>   159.7</td> \n",
       "</tr>\n",
       "<tr>\n",
       "  <th>Date:</th>             <td>Mon, 25 May 2020</td> <th>  Prob (F-statistic):</th> <td>5.19e-118</td>\n",
       "</tr>\n",
       "<tr>\n",
       "  <th>Time:</th>                 <td>04:50:33</td>     <th>  Log-Likelihood:    </th> <td>  285.31</td> \n",
       "</tr>\n",
       "<tr>\n",
       "  <th>No. Observations:</th>      <td>   359</td>      <th>  AIC:               </th> <td>  -550.6</td> \n",
       "</tr>\n",
       "<tr>\n",
       "  <th>Df Residuals:</th>          <td>   349</td>      <th>  BIC:               </th> <td>  -511.8</td> \n",
       "</tr>\n",
       "<tr>\n",
       "  <th>Df Model:</th>              <td>     9</td>      <th>                     </th>     <td> </td>    \n",
       "</tr>\n",
       "<tr>\n",
       "  <th>Covariance Type:</th>      <td>nonrobust</td>    <th>                     </th>     <td> </td>    \n",
       "</tr>\n",
       "</table>\n",
       "<table class=\"simpletable\">\n",
       "<tr>\n",
       "       <td></td>          <th>coef</th>     <th>std err</th>      <th>t</th>      <th>P>|t|</th>  <th>[0.025</th>    <th>0.975]</th>  \n",
       "</tr>\n",
       "<tr>\n",
       "  <th>const</th>       <td>    9.8602</td> <td>    0.059</td> <td>  165.739</td> <td> 0.000</td> <td>    9.743</td> <td>    9.977</td>\n",
       "</tr>\n",
       "<tr>\n",
       "  <th>exprior</th>     <td>    0.0087</td> <td>    0.002</td> <td>    5.751</td> <td> 0.000</td> <td>    0.006</td> <td>    0.012</td>\n",
       "</tr>\n",
       "<tr>\n",
       "  <th>yearsworked</th> <td>    0.0111</td> <td>    0.001</td> <td>    9.575</td> <td> 0.000</td> <td>    0.009</td> <td>    0.013</td>\n",
       "</tr>\n",
       "<tr>\n",
       "  <th>market</th>      <td>    0.6752</td> <td>    0.043</td> <td>   15.847</td> <td> 0.000</td> <td>    0.591</td> <td>    0.759</td>\n",
       "</tr>\n",
       "<tr>\n",
       "  <th>degree</th>      <td>    0.0018</td> <td>    0.033</td> <td>    0.056</td> <td> 0.956</td> <td>   -0.063</td> <td>    0.067</td>\n",
       "</tr>\n",
       "<tr>\n",
       "  <th>otherqual</th>   <td>    0.0932</td> <td>    0.031</td> <td>    2.983</td> <td> 0.003</td> <td>    0.032</td> <td>    0.155</td>\n",
       "</tr>\n",
       "<tr>\n",
       "  <th>position</th>    <td>    0.1034</td> <td>    0.013</td> <td>    8.207</td> <td> 0.000</td> <td>    0.079</td> <td>    0.128</td>\n",
       "</tr>\n",
       "<tr>\n",
       "  <th>male</th>        <td>    0.0120</td> <td>    0.020</td> <td>    0.599</td> <td> 0.550</td> <td>   -0.027</td> <td>    0.051</td>\n",
       "</tr>\n",
       "<tr>\n",
       "  <th>Field</th>       <td>   -0.0380</td> <td>    0.006</td> <td>   -6.751</td> <td> 0.000</td> <td>   -0.049</td> <td>   -0.027</td>\n",
       "</tr>\n",
       "<tr>\n",
       "  <th>yearsabs</th>    <td>   -0.0004</td> <td>    0.000</td> <td>   -0.759</td> <td> 0.449</td> <td>   -0.001</td> <td>    0.001</td>\n",
       "</tr>\n",
       "</table>\n",
       "<table class=\"simpletable\">\n",
       "<tr>\n",
       "  <th>Omnibus:</th>       <td> 5.642</td> <th>  Durbin-Watson:     </th> <td>   1.982</td>\n",
       "</tr>\n",
       "<tr>\n",
       "  <th>Prob(Omnibus):</th> <td> 0.060</td> <th>  Jarque-Bera (JB):  </th> <td>   5.545</td>\n",
       "</tr>\n",
       "<tr>\n",
       "  <th>Skew:</th>          <td> 0.303</td> <th>  Prob(JB):          </th> <td>  0.0625</td>\n",
       "</tr>\n",
       "<tr>\n",
       "  <th>Kurtosis:</th>      <td> 3.051</td> <th>  Cond. No.          </th> <td>    252.</td>\n",
       "</tr>\n",
       "</table><br/><br/>Warnings:<br/>[1] Standard Errors assume that the covariance matrix of the errors is correctly specified."
      ],
      "text/plain": [
       "<class 'statsmodels.iolib.summary.Summary'>\n",
       "\"\"\"\n",
       "                            OLS Regression Results                            \n",
       "==============================================================================\n",
       "Dep. Variable:             log_salary   R-squared:                       0.805\n",
       "Model:                            OLS   Adj. R-squared:                  0.800\n",
       "Method:                 Least Squares   F-statistic:                     159.7\n",
       "Date:                Mon, 25 May 2020   Prob (F-statistic):          5.19e-118\n",
       "Time:                        04:50:33   Log-Likelihood:                 285.31\n",
       "No. Observations:                 359   AIC:                            -550.6\n",
       "Df Residuals:                     349   BIC:                            -511.8\n",
       "Df Model:                           9                                         \n",
       "Covariance Type:            nonrobust                                         \n",
       "===============================================================================\n",
       "                  coef    std err          t      P>|t|      [0.025      0.975]\n",
       "-------------------------------------------------------------------------------\n",
       "const           9.8602      0.059    165.739      0.000       9.743       9.977\n",
       "exprior         0.0087      0.002      5.751      0.000       0.006       0.012\n",
       "yearsworked     0.0111      0.001      9.575      0.000       0.009       0.013\n",
       "market          0.6752      0.043     15.847      0.000       0.591       0.759\n",
       "degree          0.0018      0.033      0.056      0.956      -0.063       0.067\n",
       "otherqual       0.0932      0.031      2.983      0.003       0.032       0.155\n",
       "position        0.1034      0.013      8.207      0.000       0.079       0.128\n",
       "male            0.0120      0.020      0.599      0.550      -0.027       0.051\n",
       "Field          -0.0380      0.006     -6.751      0.000      -0.049      -0.027\n",
       "yearsabs       -0.0004      0.000     -0.759      0.449      -0.001       0.001\n",
       "==============================================================================\n",
       "Omnibus:                        5.642   Durbin-Watson:                   1.982\n",
       "Prob(Omnibus):                  0.060   Jarque-Bera (JB):                5.545\n",
       "Skew:                           0.303   Prob(JB):                       0.0625\n",
       "Kurtosis:                       3.051   Cond. No.                         252.\n",
       "==============================================================================\n",
       "\n",
       "Warnings:\n",
       "[1] Standard Errors assume that the covariance matrix of the errors is correctly specified.\n",
       "\"\"\""
      ]
     },
     "execution_count": 51,
     "metadata": {},
     "output_type": "execute_result"
    }
   ],
   "source": [
    "model2 = sm.OLS(Y_train2, X_train2).fit()\n",
    "model2.summary()"
   ]
  },
  {
   "cell_type": "markdown",
   "metadata": {},
   "source": [
    "<a id='predict'></a> <div class=\"alert alert-block alert-info\">\n",
    "\n",
    "#### Predictions & Model Testing\n",
    "\n",
    "\n",
    "Predicting salary using the test set.\n",
    " </div>"
   ]
  },
  {
   "cell_type": "code",
   "execution_count": 52,
   "metadata": {},
   "outputs": [],
   "source": [
    "m1_pred = model1.predict(X_test)\n",
    "m2_pred = model2.predict(X_test2)"
   ]
  },
  {
   "cell_type": "markdown",
   "metadata": {},
   "source": [
    "We use the __X_test__ data to pass in features the model has never seen"
   ]
  },
  {
   "cell_type": "code",
   "execution_count": 53,
   "metadata": {},
   "outputs": [],
   "source": [
    "df_compare = pd.concat([m1_pred, m2_pred, Y_test, Y_test2],axis=1)\n",
    "# df_compare"
   ]
  },
  {
   "cell_type": "markdown",
   "metadata": {},
   "source": [
    "<a id='eval'></a> <div class=\"alert alert-block alert-info\">\n",
    "\n",
    "#### Model Evaluations\n",
    "Regression Evaluation Metrics\n",
    "\n",
    " </div>"
   ]
  },
  {
   "cell_type": "markdown",
   "metadata": {},
   "source": [
    "#### 3 common evaluation metrics for regression problems:\n",
    "\n",
    "**Mean Absolute Error** (MAE) is the mean of the absolute value of the errors:\n",
    "\n",
    "$$\\frac 1n\\sum_{i=1}^n|y_i-\\hat{y}_i|$$\n",
    "\n",
    "**Mean Squared Error** (MSE) is the mean of the squared errors:\n",
    "\n",
    "$$\\frac 1n\\sum_{i=1}^n(y_i-\\hat{y}_i)^2$$\n",
    "\n",
    "**Root Mean Squared Error** (RMSE) is the square root of the mean of the squared errors:\n",
    "\n",
    "$$\\sqrt{\\frac 1n\\sum_{i=1}^n(y_i-\\hat{y}_i)^2}$$\n",
    "\n",
    "All of these are **loss functions**. We want to minimize them to create the best model."
   ]
  },
  {
   "cell_type": "markdown",
   "metadata": {},
   "source": [
    "### MSE"
   ]
  },
  {
   "cell_type": "code",
   "execution_count": 54,
   "metadata": {},
   "outputs": [],
   "source": [
    "errors_m1 = ErrorCalculator(Y_test, m1_pred)\n",
    "m1_mse = errors_m1.get_mse()\n",
    "errors_m2 = ErrorCalculator(Y_test2, m2_pred)\n",
    "m2_mse = errors_m2.get_mse()"
   ]
  },
  {
   "cell_type": "code",
   "execution_count": 55,
   "metadata": {},
   "outputs": [
    {
     "name": "stdout",
     "output_type": "stream",
     "text": [
      "Model1 MSE: 0.01277527520692876\n",
      "Model2 MSE: 0.013617789389795517\n",
      "MSE diff: 0.0008425141828667573\n"
     ]
    }
   ],
   "source": [
    "print(f'Model1 MSE: {m1_mse}')\n",
    "print(f'Model2 MSE: {m2_mse}')\n",
    "print(f'MSE diff: {m2_mse - m1_mse}')"
   ]
  },
  {
   "cell_type": "markdown",
   "metadata": {},
   "source": [
    "### RMSE"
   ]
  },
  {
   "cell_type": "code",
   "execution_count": 56,
   "metadata": {},
   "outputs": [],
   "source": [
    "rmse_m1 = errors_m1.get_rmse()\n",
    "rmse_m2 = errors_m2.get_rmse()"
   ]
  },
  {
   "cell_type": "code",
   "execution_count": 57,
   "metadata": {},
   "outputs": [
    {
     "name": "stdout",
     "output_type": "stream",
     "text": [
      "Model1 RMSE: 0.11302776299179224\n",
      "Model2 RMSE: 0.11669528435114898\n",
      "MSE diff: 0.0036675213593567457\n"
     ]
    }
   ],
   "source": [
    "print(f'Model1 RMSE: {rmse_m1}')\n",
    "print(f'Model2 RMSE: {rmse_m2}')\n",
    "print(f'MSE diff: {rmse_m2 - rmse_m1}')\n"
   ]
  },
  {
   "cell_type": "markdown",
   "metadata": {},
   "source": [
    "- RMSE indicates the absolute fit of the model to the data (how close the actual data points are to the model's predicted ones.)\n",
    "- RMSE is a good measure of how accurately the model predicts the target variable. It is the most important criteria for fit if the main purpose of the model is prediction."
   ]
  },
  {
   "cell_type": "markdown",
   "metadata": {},
   "source": [
    "Model2 has a higher RMSE (but only by a very small margin). \n",
    "This can be attributed to a different feature (yearsranked) being used."
   ]
  },
  {
   "cell_type": "markdown",
   "metadata": {},
   "source": [
    "### MAE\n"
   ]
  },
  {
   "cell_type": "code",
   "execution_count": 58,
   "metadata": {},
   "outputs": [],
   "source": [
    "mae_m1 = errors_m1.get_mae()\n",
    "mae_m2 = errors_m2.get_mae()"
   ]
  },
  {
   "cell_type": "code",
   "execution_count": 59,
   "metadata": {},
   "outputs": [
    {
     "name": "stdout",
     "output_type": "stream",
     "text": [
      "Model1 MAE: 0.00841845045492749\n",
      "Model2 MAE: 0.008528970736954269\n",
      "MAE diff: 0.00011052028202677804\n"
     ]
    }
   ],
   "source": [
    "print(f'Model1 MAE: {mae_m1}')\n",
    "print(f'Model2 MAE: {mae_m2}')\n",
    "print(f'MAE diff: {mae_m2 - mae_m1}')\n"
   ]
  },
  {
   "cell_type": "markdown",
   "metadata": {},
   "source": [
    "<a id='plots'></a> <div class=\"alert alert-block alert-info\">\n",
    "\n",
    "## Visual EDA\n",
    "\n",
    "- Histogram\n",
    "- Scatterplot\n",
    "- Distplot\n",
    " </div>"
   ]
  },
  {
   "cell_type": "code",
   "execution_count": 60,
   "metadata": {},
   "outputs": [
    {
     "data": {
      "image/png": "[encoded data removed]",
      "text/plain": [
       "<Figure size 1080x360 with 2 Axes>"
      ]
     },
     "metadata": {},
     "output_type": "display_data"
    },
    {
     "data": {
      "image/png": "[encoded data removed]",
      "text/plain": [
       "<Figure size 1080x360 with 2 Axes>"
      ]
     },
     "metadata": {},
     "output_type": "display_data"
    },
    {
     "data": {
      "image/png": "[encoded data removed]",
      "text/plain": [
       "<Figure size 1080x360 with 2 Axes>"
      ]
     },
     "metadata": {},
     "output_type": "display_data"
    }
   ],
   "source": [
    "# M O D E L 1 & M O D E L 2\n",
    "#Histogram\n",
    "model_hist = Histogram_Plotter(Y_test, m1_pred, Y_test2, m2_pred)\n",
    "model_hist.plot()\n",
    "#Scatter Plot\n",
    "model_scatter = Scatter_Plot(Y_test, m1_pred, Y_test2, m2_pred)\n",
    "model_scatter.plot()\n",
    "#Distplot\n",
    "model_dist = Distplot(Y_test, m1_pred, Y_test2, m2_pred)\n",
    "model_dist.plot()\n"
   ]
  },
  {
   "cell_type": "markdown",
   "metadata": {},
   "source": [
    "- The figure is normally distributed\n",
    "- This is a good sign because it means this model is a correct choice for the data\n",
    "\n"
   ]
  },
  {
   "cell_type": "markdown",
   "metadata": {},
   "source": [
    "Model 1 is the better regression model based on the fact that it has a higher R-Squared value (4% higher than Model 2).\n",
    "I mentioned earlier that the R-Squared value speaks to the quality of the model. Since Model 1 has a higher chance of predicting accurately I conclude that it is better."
   ]
  }
 ],
 "metadata": {
  "kernelspec": {
   "display_name": "Python 3",
   "language": "python",
   "name": "python3"
  },
  "language_info": {
   "codemirror_mode": {
    "name": "ipython",
    "version": 3
   },
   "file_extension": ".py",
   "mimetype": "text/x-python",
   "name": "python",
   "nbconvert_exporter": "python",
   "pygments_lexer": "ipython3",
   "version": "3.7.4"
  }
 },
 "nbformat": 4,
 "nbformat_minor": 2
}
